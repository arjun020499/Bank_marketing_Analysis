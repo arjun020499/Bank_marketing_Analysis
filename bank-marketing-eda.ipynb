{
 "cells": [
  {
   "cell_type": "code",
   "execution_count": 1,
   "id": "ece1068d",
   "metadata": {
    "_cell_guid": "b1076dfc-b9ad-4769-8c92-a6c4dae69d19",
    "_uuid": "8f2839f25d086af736a60e9eeb907d3b93b6e0e5",
    "execution": {
     "iopub.execute_input": "2022-09-12T18:32:58.000565Z",
     "iopub.status.busy": "2022-09-12T18:32:58.000068Z",
     "iopub.status.idle": "2022-09-12T18:32:58.020618Z",
     "shell.execute_reply": "2022-09-12T18:32:58.019177Z"
    },
    "papermill": {
     "duration": 0.045689,
     "end_time": "2022-09-12T18:32:58.024012",
     "exception": false,
     "start_time": "2022-09-12T18:32:57.978323",
     "status": "completed"
    },
    "tags": []
   },
   "outputs": [
    {
     "name": "stdout",
     "output_type": "stream",
     "text": [
      "/kaggle/input/bank-marketing-data-v1/bank_marketing_updated_v1.csv\n"
     ]
    }
   ],
   "source": [
    "# This Python 3 environment comes with many helpful analytics libraries installed\n",
    "# It is defined by the kaggle/python Docker image: https://github.com/kaggle/docker-python\n",
    "# For example, here's several helpful packages to load\n",
    "\n",
    "import numpy as np # linear algebra\n",
    "import pandas as pd # data processing, CSV file I/O (e.g. pd.read_csv)\n",
    "\n",
    "# Input data files are available in the read-only \"../input/\" directory\n",
    "# For example, running this (by clicking run or pressing Shift+Enter) will list all files under the input directory\n",
    "\n",
    "import os\n",
    "for dirname, _, filenames in os.walk('/kaggle/input'):\n",
    "    for filename in filenames:\n",
    "        print(os.path.join(dirname, filename))\n",
    "\n",
    "# You can write up to 20GB to the current directory (/kaggle/working/) that gets preserved as output when you create a version using \"Save & Run All\" \n",
    "# You can also write temporary files to /kaggle/temp/, but they won't be saved outside of the current session"
   ]
  },
  {
   "cell_type": "markdown",
   "id": "25e2bd17",
   "metadata": {
    "papermill": {
     "duration": 0.017971,
     "end_time": "2022-09-12T18:32:58.061703",
     "exception": false,
     "start_time": "2022-09-12T18:32:58.043732",
     "status": "completed"
    },
    "tags": []
   },
   "source": [
    "# Importing the libraries"
   ]
  },
  {
   "cell_type": "code",
   "execution_count": 2,
   "id": "eab0f3c7",
   "metadata": {
    "execution": {
     "iopub.execute_input": "2022-09-12T18:32:58.101143Z",
     "iopub.status.busy": "2022-09-12T18:32:58.100757Z",
     "iopub.status.idle": "2022-09-12T18:32:59.318486Z",
     "shell.execute_reply": "2022-09-12T18:32:59.317317Z"
    },
    "papermill": {
     "duration": 1.240774,
     "end_time": "2022-09-12T18:32:59.321633",
     "exception": false,
     "start_time": "2022-09-12T18:32:58.080859",
     "status": "completed"
    },
    "tags": []
   },
   "outputs": [],
   "source": [
    "import numpy as np\n",
    "import pandas as pd\n",
    "import matplotlib.pyplot as plt\n",
    "import seaborn as sns\n",
    "\n",
    "%matplotlib inline"
   ]
  },
  {
   "cell_type": "markdown",
   "id": "d4a71524",
   "metadata": {
    "papermill": {
     "duration": 0.017557,
     "end_time": "2022-09-12T18:32:59.358219",
     "exception": false,
     "start_time": "2022-09-12T18:32:59.340662",
     "status": "completed"
    },
    "tags": []
   },
   "source": [
    "# Uploading the data set"
   ]
  },
  {
   "cell_type": "code",
   "execution_count": 3,
   "id": "9bcaf015",
   "metadata": {
    "execution": {
     "iopub.execute_input": "2022-09-12T18:32:59.396279Z",
     "iopub.status.busy": "2022-09-12T18:32:59.395842Z",
     "iopub.status.idle": "2022-09-12T18:32:59.619345Z",
     "shell.execute_reply": "2022-09-12T18:32:59.618136Z"
    },
    "papermill": {
     "duration": 0.2452,
     "end_time": "2022-09-12T18:32:59.621862",
     "exception": false,
     "start_time": "2022-09-12T18:32:59.376662",
     "status": "completed"
    },
    "tags": []
   },
   "outputs": [
    {
     "data": {
      "text/html": [
       "<div>\n",
       "<style scoped>\n",
       "    .dataframe tbody tr th:only-of-type {\n",
       "        vertical-align: middle;\n",
       "    }\n",
       "\n",
       "    .dataframe tbody tr th {\n",
       "        vertical-align: top;\n",
       "    }\n",
       "\n",
       "    .dataframe thead th {\n",
       "        text-align: right;\n",
       "    }\n",
       "</style>\n",
       "<table border=\"1\" class=\"dataframe\">\n",
       "  <thead>\n",
       "    <tr style=\"text-align: right;\">\n",
       "      <th></th>\n",
       "      <th>customerid</th>\n",
       "      <th>age</th>\n",
       "      <th>salary</th>\n",
       "      <th>balance</th>\n",
       "      <th>marital</th>\n",
       "      <th>jobedu</th>\n",
       "      <th>targeted</th>\n",
       "      <th>default</th>\n",
       "      <th>housing</th>\n",
       "      <th>loan</th>\n",
       "      <th>contact</th>\n",
       "      <th>day</th>\n",
       "      <th>month</th>\n",
       "      <th>duration</th>\n",
       "      <th>campaign</th>\n",
       "      <th>pdays</th>\n",
       "      <th>previous</th>\n",
       "      <th>poutcome</th>\n",
       "      <th>response</th>\n",
       "    </tr>\n",
       "  </thead>\n",
       "  <tbody>\n",
       "    <tr>\n",
       "      <th>0</th>\n",
       "      <td>1</td>\n",
       "      <td>58.0</td>\n",
       "      <td>100000</td>\n",
       "      <td>2143</td>\n",
       "      <td>married</td>\n",
       "      <td>management,tertiary</td>\n",
       "      <td>yes</td>\n",
       "      <td>no</td>\n",
       "      <td>yes</td>\n",
       "      <td>no</td>\n",
       "      <td>unknown</td>\n",
       "      <td>5</td>\n",
       "      <td>may, 2017</td>\n",
       "      <td>261 sec</td>\n",
       "      <td>1</td>\n",
       "      <td>-1</td>\n",
       "      <td>0</td>\n",
       "      <td>unknown</td>\n",
       "      <td>no</td>\n",
       "    </tr>\n",
       "    <tr>\n",
       "      <th>1</th>\n",
       "      <td>2</td>\n",
       "      <td>44.0</td>\n",
       "      <td>60000</td>\n",
       "      <td>29</td>\n",
       "      <td>single</td>\n",
       "      <td>technician,secondary</td>\n",
       "      <td>yes</td>\n",
       "      <td>no</td>\n",
       "      <td>yes</td>\n",
       "      <td>no</td>\n",
       "      <td>unknown</td>\n",
       "      <td>5</td>\n",
       "      <td>may, 2017</td>\n",
       "      <td>151 sec</td>\n",
       "      <td>1</td>\n",
       "      <td>-1</td>\n",
       "      <td>0</td>\n",
       "      <td>unknown</td>\n",
       "      <td>no</td>\n",
       "    </tr>\n",
       "    <tr>\n",
       "      <th>2</th>\n",
       "      <td>3</td>\n",
       "      <td>33.0</td>\n",
       "      <td>120000</td>\n",
       "      <td>2</td>\n",
       "      <td>married</td>\n",
       "      <td>entrepreneur,secondary</td>\n",
       "      <td>yes</td>\n",
       "      <td>no</td>\n",
       "      <td>yes</td>\n",
       "      <td>yes</td>\n",
       "      <td>unknown</td>\n",
       "      <td>5</td>\n",
       "      <td>may, 2017</td>\n",
       "      <td>76 sec</td>\n",
       "      <td>1</td>\n",
       "      <td>-1</td>\n",
       "      <td>0</td>\n",
       "      <td>unknown</td>\n",
       "      <td>no</td>\n",
       "    </tr>\n",
       "    <tr>\n",
       "      <th>3</th>\n",
       "      <td>4</td>\n",
       "      <td>47.0</td>\n",
       "      <td>20000</td>\n",
       "      <td>1506</td>\n",
       "      <td>married</td>\n",
       "      <td>blue-collar,unknown</td>\n",
       "      <td>no</td>\n",
       "      <td>no</td>\n",
       "      <td>yes</td>\n",
       "      <td>no</td>\n",
       "      <td>unknown</td>\n",
       "      <td>5</td>\n",
       "      <td>may, 2017</td>\n",
       "      <td>92 sec</td>\n",
       "      <td>1</td>\n",
       "      <td>-1</td>\n",
       "      <td>0</td>\n",
       "      <td>unknown</td>\n",
       "      <td>no</td>\n",
       "    </tr>\n",
       "    <tr>\n",
       "      <th>4</th>\n",
       "      <td>5</td>\n",
       "      <td>33.0</td>\n",
       "      <td>0</td>\n",
       "      <td>1</td>\n",
       "      <td>single</td>\n",
       "      <td>unknown,unknown</td>\n",
       "      <td>no</td>\n",
       "      <td>no</td>\n",
       "      <td>no</td>\n",
       "      <td>no</td>\n",
       "      <td>unknown</td>\n",
       "      <td>5</td>\n",
       "      <td>may, 2017</td>\n",
       "      <td>198 sec</td>\n",
       "      <td>1</td>\n",
       "      <td>-1</td>\n",
       "      <td>0</td>\n",
       "      <td>unknown</td>\n",
       "      <td>no</td>\n",
       "    </tr>\n",
       "  </tbody>\n",
       "</table>\n",
       "</div>"
      ],
      "text/plain": [
       "   customerid   age  salary  balance  marital                  jobedu  \\\n",
       "0           1  58.0  100000     2143  married     management,tertiary   \n",
       "1           2  44.0   60000       29   single    technician,secondary   \n",
       "2           3  33.0  120000        2  married  entrepreneur,secondary   \n",
       "3           4  47.0   20000     1506  married     blue-collar,unknown   \n",
       "4           5  33.0       0        1   single         unknown,unknown   \n",
       "\n",
       "  targeted default housing loan  contact  day      month duration  campaign  \\\n",
       "0      yes      no     yes   no  unknown    5  may, 2017  261 sec         1   \n",
       "1      yes      no     yes   no  unknown    5  may, 2017  151 sec         1   \n",
       "2      yes      no     yes  yes  unknown    5  may, 2017   76 sec         1   \n",
       "3       no      no     yes   no  unknown    5  may, 2017   92 sec         1   \n",
       "4       no      no      no   no  unknown    5  may, 2017  198 sec         1   \n",
       "\n",
       "   pdays  previous poutcome response  \n",
       "0     -1         0  unknown       no  \n",
       "1     -1         0  unknown       no  \n",
       "2     -1         0  unknown       no  \n",
       "3     -1         0  unknown       no  \n",
       "4     -1         0  unknown       no  "
      ]
     },
     "execution_count": 3,
     "metadata": {},
     "output_type": "execute_result"
    }
   ],
   "source": [
    "df=pd.read_csv('../input/bank-marketing-data-v1/bank_marketing_updated_v1.csv',skiprows=2)\n",
    "df.head()"
   ]
  },
  {
   "cell_type": "markdown",
   "id": "c986ebdb",
   "metadata": {
    "papermill": {
     "duration": 0.017971,
     "end_time": "2022-09-12T18:32:59.658303",
     "exception": false,
     "start_time": "2022-09-12T18:32:59.640332",
     "status": "completed"
    },
    "tags": []
   },
   "source": [
    "# Data cleaning"
   ]
  },
  {
   "cell_type": "code",
   "execution_count": 4,
   "id": "b2f1b3a8",
   "metadata": {
    "execution": {
     "iopub.execute_input": "2022-09-12T18:32:59.696729Z",
     "iopub.status.busy": "2022-09-12T18:32:59.696294Z",
     "iopub.status.idle": "2022-09-12T18:32:59.729260Z",
     "shell.execute_reply": "2022-09-12T18:32:59.728271Z"
    },
    "papermill": {
     "duration": 0.055202,
     "end_time": "2022-09-12T18:32:59.731643",
     "exception": false,
     "start_time": "2022-09-12T18:32:59.676441",
     "status": "completed"
    },
    "tags": []
   },
   "outputs": [
    {
     "data": {
      "text/html": [
       "<div>\n",
       "<style scoped>\n",
       "    .dataframe tbody tr th:only-of-type {\n",
       "        vertical-align: middle;\n",
       "    }\n",
       "\n",
       "    .dataframe tbody tr th {\n",
       "        vertical-align: top;\n",
       "    }\n",
       "\n",
       "    .dataframe thead th {\n",
       "        text-align: right;\n",
       "    }\n",
       "</style>\n",
       "<table border=\"1\" class=\"dataframe\">\n",
       "  <thead>\n",
       "    <tr style=\"text-align: right;\">\n",
       "      <th></th>\n",
       "      <th>age</th>\n",
       "      <th>salary</th>\n",
       "      <th>balance</th>\n",
       "      <th>marital</th>\n",
       "      <th>jobedu</th>\n",
       "      <th>targeted</th>\n",
       "      <th>default</th>\n",
       "      <th>housing</th>\n",
       "      <th>loan</th>\n",
       "      <th>contact</th>\n",
       "      <th>day</th>\n",
       "      <th>month</th>\n",
       "      <th>duration</th>\n",
       "      <th>campaign</th>\n",
       "      <th>pdays</th>\n",
       "      <th>previous</th>\n",
       "      <th>poutcome</th>\n",
       "      <th>response</th>\n",
       "    </tr>\n",
       "  </thead>\n",
       "  <tbody>\n",
       "    <tr>\n",
       "      <th>0</th>\n",
       "      <td>58.0</td>\n",
       "      <td>100000</td>\n",
       "      <td>2143</td>\n",
       "      <td>married</td>\n",
       "      <td>management,tertiary</td>\n",
       "      <td>yes</td>\n",
       "      <td>no</td>\n",
       "      <td>yes</td>\n",
       "      <td>no</td>\n",
       "      <td>unknown</td>\n",
       "      <td>5</td>\n",
       "      <td>may, 2017</td>\n",
       "      <td>261 sec</td>\n",
       "      <td>1</td>\n",
       "      <td>-1</td>\n",
       "      <td>0</td>\n",
       "      <td>unknown</td>\n",
       "      <td>no</td>\n",
       "    </tr>\n",
       "    <tr>\n",
       "      <th>1</th>\n",
       "      <td>44.0</td>\n",
       "      <td>60000</td>\n",
       "      <td>29</td>\n",
       "      <td>single</td>\n",
       "      <td>technician,secondary</td>\n",
       "      <td>yes</td>\n",
       "      <td>no</td>\n",
       "      <td>yes</td>\n",
       "      <td>no</td>\n",
       "      <td>unknown</td>\n",
       "      <td>5</td>\n",
       "      <td>may, 2017</td>\n",
       "      <td>151 sec</td>\n",
       "      <td>1</td>\n",
       "      <td>-1</td>\n",
       "      <td>0</td>\n",
       "      <td>unknown</td>\n",
       "      <td>no</td>\n",
       "    </tr>\n",
       "    <tr>\n",
       "      <th>2</th>\n",
       "      <td>33.0</td>\n",
       "      <td>120000</td>\n",
       "      <td>2</td>\n",
       "      <td>married</td>\n",
       "      <td>entrepreneur,secondary</td>\n",
       "      <td>yes</td>\n",
       "      <td>no</td>\n",
       "      <td>yes</td>\n",
       "      <td>yes</td>\n",
       "      <td>unknown</td>\n",
       "      <td>5</td>\n",
       "      <td>may, 2017</td>\n",
       "      <td>76 sec</td>\n",
       "      <td>1</td>\n",
       "      <td>-1</td>\n",
       "      <td>0</td>\n",
       "      <td>unknown</td>\n",
       "      <td>no</td>\n",
       "    </tr>\n",
       "    <tr>\n",
       "      <th>3</th>\n",
       "      <td>47.0</td>\n",
       "      <td>20000</td>\n",
       "      <td>1506</td>\n",
       "      <td>married</td>\n",
       "      <td>blue-collar,unknown</td>\n",
       "      <td>no</td>\n",
       "      <td>no</td>\n",
       "      <td>yes</td>\n",
       "      <td>no</td>\n",
       "      <td>unknown</td>\n",
       "      <td>5</td>\n",
       "      <td>may, 2017</td>\n",
       "      <td>92 sec</td>\n",
       "      <td>1</td>\n",
       "      <td>-1</td>\n",
       "      <td>0</td>\n",
       "      <td>unknown</td>\n",
       "      <td>no</td>\n",
       "    </tr>\n",
       "    <tr>\n",
       "      <th>4</th>\n",
       "      <td>33.0</td>\n",
       "      <td>0</td>\n",
       "      <td>1</td>\n",
       "      <td>single</td>\n",
       "      <td>unknown,unknown</td>\n",
       "      <td>no</td>\n",
       "      <td>no</td>\n",
       "      <td>no</td>\n",
       "      <td>no</td>\n",
       "      <td>unknown</td>\n",
       "      <td>5</td>\n",
       "      <td>may, 2017</td>\n",
       "      <td>198 sec</td>\n",
       "      <td>1</td>\n",
       "      <td>-1</td>\n",
       "      <td>0</td>\n",
       "      <td>unknown</td>\n",
       "      <td>no</td>\n",
       "    </tr>\n",
       "  </tbody>\n",
       "</table>\n",
       "</div>"
      ],
      "text/plain": [
       "    age  salary  balance  marital                  jobedu targeted default  \\\n",
       "0  58.0  100000     2143  married     management,tertiary      yes      no   \n",
       "1  44.0   60000       29   single    technician,secondary      yes      no   \n",
       "2  33.0  120000        2  married  entrepreneur,secondary      yes      no   \n",
       "3  47.0   20000     1506  married     blue-collar,unknown       no      no   \n",
       "4  33.0       0        1   single         unknown,unknown       no      no   \n",
       "\n",
       "  housing loan  contact  day      month duration  campaign  pdays  previous  \\\n",
       "0     yes   no  unknown    5  may, 2017  261 sec         1     -1         0   \n",
       "1     yes   no  unknown    5  may, 2017  151 sec         1     -1         0   \n",
       "2     yes  yes  unknown    5  may, 2017   76 sec         1     -1         0   \n",
       "3     yes   no  unknown    5  may, 2017   92 sec         1     -1         0   \n",
       "4      no   no  unknown    5  may, 2017  198 sec         1     -1         0   \n",
       "\n",
       "  poutcome response  \n",
       "0  unknown       no  \n",
       "1  unknown       no  \n",
       "2  unknown       no  \n",
       "3  unknown       no  \n",
       "4  unknown       no  "
      ]
     },
     "execution_count": 4,
     "metadata": {},
     "output_type": "execute_result"
    }
   ],
   "source": [
    "df.drop('customerid',axis=1,inplace=True)\n",
    "df.head()"
   ]
  },
  {
   "cell_type": "code",
   "execution_count": 5,
   "id": "799ffd48",
   "metadata": {
    "execution": {
     "iopub.execute_input": "2022-09-12T18:32:59.772130Z",
     "iopub.status.busy": "2022-09-12T18:32:59.771364Z",
     "iopub.status.idle": "2022-09-12T18:32:59.815667Z",
     "shell.execute_reply": "2022-09-12T18:32:59.814497Z"
    },
    "papermill": {
     "duration": 0.067615,
     "end_time": "2022-09-12T18:32:59.818007",
     "exception": false,
     "start_time": "2022-09-12T18:32:59.750392",
     "status": "completed"
    },
    "tags": []
   },
   "outputs": [
    {
     "data": {
      "text/html": [
       "<div>\n",
       "<style scoped>\n",
       "    .dataframe tbody tr th:only-of-type {\n",
       "        vertical-align: middle;\n",
       "    }\n",
       "\n",
       "    .dataframe tbody tr th {\n",
       "        vertical-align: top;\n",
       "    }\n",
       "\n",
       "    .dataframe thead th {\n",
       "        text-align: right;\n",
       "    }\n",
       "</style>\n",
       "<table border=\"1\" class=\"dataframe\">\n",
       "  <thead>\n",
       "    <tr style=\"text-align: right;\">\n",
       "      <th></th>\n",
       "      <th>age</th>\n",
       "      <th>salary</th>\n",
       "      <th>balance</th>\n",
       "      <th>marital</th>\n",
       "      <th>jobedu</th>\n",
       "      <th>targeted</th>\n",
       "      <th>default</th>\n",
       "      <th>housing</th>\n",
       "      <th>loan</th>\n",
       "      <th>contact</th>\n",
       "      <th>day</th>\n",
       "      <th>month</th>\n",
       "      <th>duration</th>\n",
       "      <th>campaign</th>\n",
       "      <th>pdays</th>\n",
       "      <th>previous</th>\n",
       "      <th>poutcome</th>\n",
       "      <th>response</th>\n",
       "      <th>job</th>\n",
       "    </tr>\n",
       "  </thead>\n",
       "  <tbody>\n",
       "    <tr>\n",
       "      <th>0</th>\n",
       "      <td>58.0</td>\n",
       "      <td>100000</td>\n",
       "      <td>2143</td>\n",
       "      <td>married</td>\n",
       "      <td>management,tertiary</td>\n",
       "      <td>yes</td>\n",
       "      <td>no</td>\n",
       "      <td>yes</td>\n",
       "      <td>no</td>\n",
       "      <td>unknown</td>\n",
       "      <td>5</td>\n",
       "      <td>may, 2017</td>\n",
       "      <td>261 sec</td>\n",
       "      <td>1</td>\n",
       "      <td>-1</td>\n",
       "      <td>0</td>\n",
       "      <td>unknown</td>\n",
       "      <td>no</td>\n",
       "      <td>management</td>\n",
       "    </tr>\n",
       "    <tr>\n",
       "      <th>1</th>\n",
       "      <td>44.0</td>\n",
       "      <td>60000</td>\n",
       "      <td>29</td>\n",
       "      <td>single</td>\n",
       "      <td>technician,secondary</td>\n",
       "      <td>yes</td>\n",
       "      <td>no</td>\n",
       "      <td>yes</td>\n",
       "      <td>no</td>\n",
       "      <td>unknown</td>\n",
       "      <td>5</td>\n",
       "      <td>may, 2017</td>\n",
       "      <td>151 sec</td>\n",
       "      <td>1</td>\n",
       "      <td>-1</td>\n",
       "      <td>0</td>\n",
       "      <td>unknown</td>\n",
       "      <td>no</td>\n",
       "      <td>technician</td>\n",
       "    </tr>\n",
       "    <tr>\n",
       "      <th>2</th>\n",
       "      <td>33.0</td>\n",
       "      <td>120000</td>\n",
       "      <td>2</td>\n",
       "      <td>married</td>\n",
       "      <td>entrepreneur,secondary</td>\n",
       "      <td>yes</td>\n",
       "      <td>no</td>\n",
       "      <td>yes</td>\n",
       "      <td>yes</td>\n",
       "      <td>unknown</td>\n",
       "      <td>5</td>\n",
       "      <td>may, 2017</td>\n",
       "      <td>76 sec</td>\n",
       "      <td>1</td>\n",
       "      <td>-1</td>\n",
       "      <td>0</td>\n",
       "      <td>unknown</td>\n",
       "      <td>no</td>\n",
       "      <td>entrepreneur</td>\n",
       "    </tr>\n",
       "    <tr>\n",
       "      <th>3</th>\n",
       "      <td>47.0</td>\n",
       "      <td>20000</td>\n",
       "      <td>1506</td>\n",
       "      <td>married</td>\n",
       "      <td>blue-collar,unknown</td>\n",
       "      <td>no</td>\n",
       "      <td>no</td>\n",
       "      <td>yes</td>\n",
       "      <td>no</td>\n",
       "      <td>unknown</td>\n",
       "      <td>5</td>\n",
       "      <td>may, 2017</td>\n",
       "      <td>92 sec</td>\n",
       "      <td>1</td>\n",
       "      <td>-1</td>\n",
       "      <td>0</td>\n",
       "      <td>unknown</td>\n",
       "      <td>no</td>\n",
       "      <td>blue-collar</td>\n",
       "    </tr>\n",
       "    <tr>\n",
       "      <th>4</th>\n",
       "      <td>33.0</td>\n",
       "      <td>0</td>\n",
       "      <td>1</td>\n",
       "      <td>single</td>\n",
       "      <td>unknown,unknown</td>\n",
       "      <td>no</td>\n",
       "      <td>no</td>\n",
       "      <td>no</td>\n",
       "      <td>no</td>\n",
       "      <td>unknown</td>\n",
       "      <td>5</td>\n",
       "      <td>may, 2017</td>\n",
       "      <td>198 sec</td>\n",
       "      <td>1</td>\n",
       "      <td>-1</td>\n",
       "      <td>0</td>\n",
       "      <td>unknown</td>\n",
       "      <td>no</td>\n",
       "      <td>unknown</td>\n",
       "    </tr>\n",
       "  </tbody>\n",
       "</table>\n",
       "</div>"
      ],
      "text/plain": [
       "    age  salary  balance  marital                  jobedu targeted default  \\\n",
       "0  58.0  100000     2143  married     management,tertiary      yes      no   \n",
       "1  44.0   60000       29   single    technician,secondary      yes      no   \n",
       "2  33.0  120000        2  married  entrepreneur,secondary      yes      no   \n",
       "3  47.0   20000     1506  married     blue-collar,unknown       no      no   \n",
       "4  33.0       0        1   single         unknown,unknown       no      no   \n",
       "\n",
       "  housing loan  contact  day      month duration  campaign  pdays  previous  \\\n",
       "0     yes   no  unknown    5  may, 2017  261 sec         1     -1         0   \n",
       "1     yes   no  unknown    5  may, 2017  151 sec         1     -1         0   \n",
       "2     yes  yes  unknown    5  may, 2017   76 sec         1     -1         0   \n",
       "3     yes   no  unknown    5  may, 2017   92 sec         1     -1         0   \n",
       "4      no   no  unknown    5  may, 2017  198 sec         1     -1         0   \n",
       "\n",
       "  poutcome response           job  \n",
       "0  unknown       no    management  \n",
       "1  unknown       no    technician  \n",
       "2  unknown       no  entrepreneur  \n",
       "3  unknown       no   blue-collar  \n",
       "4  unknown       no       unknown  "
      ]
     },
     "execution_count": 5,
     "metadata": {},
     "output_type": "execute_result"
    }
   ],
   "source": [
    "df['job']=df.jobedu.apply(lambda x: x.split(\",\")[0])\n",
    "df.head()"
   ]
  },
  {
   "cell_type": "code",
   "execution_count": 6,
   "id": "08b5b57e",
   "metadata": {
    "execution": {
     "iopub.execute_input": "2022-09-12T18:32:59.857834Z",
     "iopub.status.busy": "2022-09-12T18:32:59.857193Z",
     "iopub.status.idle": "2022-09-12T18:32:59.900005Z",
     "shell.execute_reply": "2022-09-12T18:32:59.899030Z"
    },
    "papermill": {
     "duration": 0.065837,
     "end_time": "2022-09-12T18:32:59.902549",
     "exception": false,
     "start_time": "2022-09-12T18:32:59.836712",
     "status": "completed"
    },
    "tags": []
   },
   "outputs": [
    {
     "data": {
      "text/html": [
       "<div>\n",
       "<style scoped>\n",
       "    .dataframe tbody tr th:only-of-type {\n",
       "        vertical-align: middle;\n",
       "    }\n",
       "\n",
       "    .dataframe tbody tr th {\n",
       "        vertical-align: top;\n",
       "    }\n",
       "\n",
       "    .dataframe thead th {\n",
       "        text-align: right;\n",
       "    }\n",
       "</style>\n",
       "<table border=\"1\" class=\"dataframe\">\n",
       "  <thead>\n",
       "    <tr style=\"text-align: right;\">\n",
       "      <th></th>\n",
       "      <th>age</th>\n",
       "      <th>salary</th>\n",
       "      <th>balance</th>\n",
       "      <th>marital</th>\n",
       "      <th>jobedu</th>\n",
       "      <th>targeted</th>\n",
       "      <th>default</th>\n",
       "      <th>housing</th>\n",
       "      <th>loan</th>\n",
       "      <th>contact</th>\n",
       "      <th>day</th>\n",
       "      <th>month</th>\n",
       "      <th>duration</th>\n",
       "      <th>campaign</th>\n",
       "      <th>pdays</th>\n",
       "      <th>previous</th>\n",
       "      <th>poutcome</th>\n",
       "      <th>response</th>\n",
       "      <th>job</th>\n",
       "      <th>Education</th>\n",
       "    </tr>\n",
       "  </thead>\n",
       "  <tbody>\n",
       "    <tr>\n",
       "      <th>0</th>\n",
       "      <td>58.0</td>\n",
       "      <td>100000</td>\n",
       "      <td>2143</td>\n",
       "      <td>married</td>\n",
       "      <td>management,tertiary</td>\n",
       "      <td>yes</td>\n",
       "      <td>no</td>\n",
       "      <td>yes</td>\n",
       "      <td>no</td>\n",
       "      <td>unknown</td>\n",
       "      <td>5</td>\n",
       "      <td>may, 2017</td>\n",
       "      <td>261 sec</td>\n",
       "      <td>1</td>\n",
       "      <td>-1</td>\n",
       "      <td>0</td>\n",
       "      <td>unknown</td>\n",
       "      <td>no</td>\n",
       "      <td>management</td>\n",
       "      <td>tertiary</td>\n",
       "    </tr>\n",
       "    <tr>\n",
       "      <th>1</th>\n",
       "      <td>44.0</td>\n",
       "      <td>60000</td>\n",
       "      <td>29</td>\n",
       "      <td>single</td>\n",
       "      <td>technician,secondary</td>\n",
       "      <td>yes</td>\n",
       "      <td>no</td>\n",
       "      <td>yes</td>\n",
       "      <td>no</td>\n",
       "      <td>unknown</td>\n",
       "      <td>5</td>\n",
       "      <td>may, 2017</td>\n",
       "      <td>151 sec</td>\n",
       "      <td>1</td>\n",
       "      <td>-1</td>\n",
       "      <td>0</td>\n",
       "      <td>unknown</td>\n",
       "      <td>no</td>\n",
       "      <td>technician</td>\n",
       "      <td>secondary</td>\n",
       "    </tr>\n",
       "    <tr>\n",
       "      <th>2</th>\n",
       "      <td>33.0</td>\n",
       "      <td>120000</td>\n",
       "      <td>2</td>\n",
       "      <td>married</td>\n",
       "      <td>entrepreneur,secondary</td>\n",
       "      <td>yes</td>\n",
       "      <td>no</td>\n",
       "      <td>yes</td>\n",
       "      <td>yes</td>\n",
       "      <td>unknown</td>\n",
       "      <td>5</td>\n",
       "      <td>may, 2017</td>\n",
       "      <td>76 sec</td>\n",
       "      <td>1</td>\n",
       "      <td>-1</td>\n",
       "      <td>0</td>\n",
       "      <td>unknown</td>\n",
       "      <td>no</td>\n",
       "      <td>entrepreneur</td>\n",
       "      <td>secondary</td>\n",
       "    </tr>\n",
       "    <tr>\n",
       "      <th>3</th>\n",
       "      <td>47.0</td>\n",
       "      <td>20000</td>\n",
       "      <td>1506</td>\n",
       "      <td>married</td>\n",
       "      <td>blue-collar,unknown</td>\n",
       "      <td>no</td>\n",
       "      <td>no</td>\n",
       "      <td>yes</td>\n",
       "      <td>no</td>\n",
       "      <td>unknown</td>\n",
       "      <td>5</td>\n",
       "      <td>may, 2017</td>\n",
       "      <td>92 sec</td>\n",
       "      <td>1</td>\n",
       "      <td>-1</td>\n",
       "      <td>0</td>\n",
       "      <td>unknown</td>\n",
       "      <td>no</td>\n",
       "      <td>blue-collar</td>\n",
       "      <td>unknown</td>\n",
       "    </tr>\n",
       "    <tr>\n",
       "      <th>4</th>\n",
       "      <td>33.0</td>\n",
       "      <td>0</td>\n",
       "      <td>1</td>\n",
       "      <td>single</td>\n",
       "      <td>unknown,unknown</td>\n",
       "      <td>no</td>\n",
       "      <td>no</td>\n",
       "      <td>no</td>\n",
       "      <td>no</td>\n",
       "      <td>unknown</td>\n",
       "      <td>5</td>\n",
       "      <td>may, 2017</td>\n",
       "      <td>198 sec</td>\n",
       "      <td>1</td>\n",
       "      <td>-1</td>\n",
       "      <td>0</td>\n",
       "      <td>unknown</td>\n",
       "      <td>no</td>\n",
       "      <td>unknown</td>\n",
       "      <td>unknown</td>\n",
       "    </tr>\n",
       "  </tbody>\n",
       "</table>\n",
       "</div>"
      ],
      "text/plain": [
       "    age  salary  balance  marital                  jobedu targeted default  \\\n",
       "0  58.0  100000     2143  married     management,tertiary      yes      no   \n",
       "1  44.0   60000       29   single    technician,secondary      yes      no   \n",
       "2  33.0  120000        2  married  entrepreneur,secondary      yes      no   \n",
       "3  47.0   20000     1506  married     blue-collar,unknown       no      no   \n",
       "4  33.0       0        1   single         unknown,unknown       no      no   \n",
       "\n",
       "  housing loan  contact  day      month duration  campaign  pdays  previous  \\\n",
       "0     yes   no  unknown    5  may, 2017  261 sec         1     -1         0   \n",
       "1     yes   no  unknown    5  may, 2017  151 sec         1     -1         0   \n",
       "2     yes  yes  unknown    5  may, 2017   76 sec         1     -1         0   \n",
       "3     yes   no  unknown    5  may, 2017   92 sec         1     -1         0   \n",
       "4      no   no  unknown    5  may, 2017  198 sec         1     -1         0   \n",
       "\n",
       "  poutcome response           job  Education  \n",
       "0  unknown       no    management   tertiary  \n",
       "1  unknown       no    technician  secondary  \n",
       "2  unknown       no  entrepreneur  secondary  \n",
       "3  unknown       no   blue-collar    unknown  \n",
       "4  unknown       no       unknown    unknown  "
      ]
     },
     "execution_count": 6,
     "metadata": {},
     "output_type": "execute_result"
    }
   ],
   "source": [
    "df['Education']=df.jobedu.apply(lambda x: x.split(\",\")[1])\n",
    "df.head()"
   ]
  },
  {
   "cell_type": "code",
   "execution_count": 7,
   "id": "b3c6c127",
   "metadata": {
    "execution": {
     "iopub.execute_input": "2022-09-12T18:32:59.943247Z",
     "iopub.status.busy": "2022-09-12T18:32:59.942247Z",
     "iopub.status.idle": "2022-09-12T18:32:59.996768Z",
     "shell.execute_reply": "2022-09-12T18:32:59.995936Z"
    },
    "papermill": {
     "duration": 0.07756,
     "end_time": "2022-09-12T18:32:59.999240",
     "exception": false,
     "start_time": "2022-09-12T18:32:59.921680",
     "status": "completed"
    },
    "tags": []
   },
   "outputs": [
    {
     "data": {
      "text/html": [
       "<div>\n",
       "<style scoped>\n",
       "    .dataframe tbody tr th:only-of-type {\n",
       "        vertical-align: middle;\n",
       "    }\n",
       "\n",
       "    .dataframe tbody tr th {\n",
       "        vertical-align: top;\n",
       "    }\n",
       "\n",
       "    .dataframe thead th {\n",
       "        text-align: right;\n",
       "    }\n",
       "</style>\n",
       "<table border=\"1\" class=\"dataframe\">\n",
       "  <thead>\n",
       "    <tr style=\"text-align: right;\">\n",
       "      <th></th>\n",
       "      <th>age</th>\n",
       "      <th>salary</th>\n",
       "      <th>balance</th>\n",
       "      <th>marital</th>\n",
       "      <th>targeted</th>\n",
       "      <th>default</th>\n",
       "      <th>housing</th>\n",
       "      <th>loan</th>\n",
       "      <th>contact</th>\n",
       "      <th>day</th>\n",
       "      <th>month</th>\n",
       "      <th>duration</th>\n",
       "      <th>campaign</th>\n",
       "      <th>pdays</th>\n",
       "      <th>previous</th>\n",
       "      <th>poutcome</th>\n",
       "      <th>response</th>\n",
       "      <th>job</th>\n",
       "      <th>Education</th>\n",
       "    </tr>\n",
       "  </thead>\n",
       "  <tbody>\n",
       "    <tr>\n",
       "      <th>0</th>\n",
       "      <td>58.0</td>\n",
       "      <td>100000</td>\n",
       "      <td>2143</td>\n",
       "      <td>married</td>\n",
       "      <td>yes</td>\n",
       "      <td>no</td>\n",
       "      <td>yes</td>\n",
       "      <td>no</td>\n",
       "      <td>unknown</td>\n",
       "      <td>5</td>\n",
       "      <td>may, 2017</td>\n",
       "      <td>261 sec</td>\n",
       "      <td>1</td>\n",
       "      <td>-1</td>\n",
       "      <td>0</td>\n",
       "      <td>unknown</td>\n",
       "      <td>no</td>\n",
       "      <td>management</td>\n",
       "      <td>tertiary</td>\n",
       "    </tr>\n",
       "    <tr>\n",
       "      <th>1</th>\n",
       "      <td>44.0</td>\n",
       "      <td>60000</td>\n",
       "      <td>29</td>\n",
       "      <td>single</td>\n",
       "      <td>yes</td>\n",
       "      <td>no</td>\n",
       "      <td>yes</td>\n",
       "      <td>no</td>\n",
       "      <td>unknown</td>\n",
       "      <td>5</td>\n",
       "      <td>may, 2017</td>\n",
       "      <td>151 sec</td>\n",
       "      <td>1</td>\n",
       "      <td>-1</td>\n",
       "      <td>0</td>\n",
       "      <td>unknown</td>\n",
       "      <td>no</td>\n",
       "      <td>technician</td>\n",
       "      <td>secondary</td>\n",
       "    </tr>\n",
       "    <tr>\n",
       "      <th>2</th>\n",
       "      <td>33.0</td>\n",
       "      <td>120000</td>\n",
       "      <td>2</td>\n",
       "      <td>married</td>\n",
       "      <td>yes</td>\n",
       "      <td>no</td>\n",
       "      <td>yes</td>\n",
       "      <td>yes</td>\n",
       "      <td>unknown</td>\n",
       "      <td>5</td>\n",
       "      <td>may, 2017</td>\n",
       "      <td>76 sec</td>\n",
       "      <td>1</td>\n",
       "      <td>-1</td>\n",
       "      <td>0</td>\n",
       "      <td>unknown</td>\n",
       "      <td>no</td>\n",
       "      <td>entrepreneur</td>\n",
       "      <td>secondary</td>\n",
       "    </tr>\n",
       "    <tr>\n",
       "      <th>3</th>\n",
       "      <td>47.0</td>\n",
       "      <td>20000</td>\n",
       "      <td>1506</td>\n",
       "      <td>married</td>\n",
       "      <td>no</td>\n",
       "      <td>no</td>\n",
       "      <td>yes</td>\n",
       "      <td>no</td>\n",
       "      <td>unknown</td>\n",
       "      <td>5</td>\n",
       "      <td>may, 2017</td>\n",
       "      <td>92 sec</td>\n",
       "      <td>1</td>\n",
       "      <td>-1</td>\n",
       "      <td>0</td>\n",
       "      <td>unknown</td>\n",
       "      <td>no</td>\n",
       "      <td>blue-collar</td>\n",
       "      <td>unknown</td>\n",
       "    </tr>\n",
       "    <tr>\n",
       "      <th>4</th>\n",
       "      <td>33.0</td>\n",
       "      <td>0</td>\n",
       "      <td>1</td>\n",
       "      <td>single</td>\n",
       "      <td>no</td>\n",
       "      <td>no</td>\n",
       "      <td>no</td>\n",
       "      <td>no</td>\n",
       "      <td>unknown</td>\n",
       "      <td>5</td>\n",
       "      <td>may, 2017</td>\n",
       "      <td>198 sec</td>\n",
       "      <td>1</td>\n",
       "      <td>-1</td>\n",
       "      <td>0</td>\n",
       "      <td>unknown</td>\n",
       "      <td>no</td>\n",
       "      <td>unknown</td>\n",
       "      <td>unknown</td>\n",
       "    </tr>\n",
       "  </tbody>\n",
       "</table>\n",
       "</div>"
      ],
      "text/plain": [
       "    age  salary  balance  marital targeted default housing loan  contact  day  \\\n",
       "0  58.0  100000     2143  married      yes      no     yes   no  unknown    5   \n",
       "1  44.0   60000       29   single      yes      no     yes   no  unknown    5   \n",
       "2  33.0  120000        2  married      yes      no     yes  yes  unknown    5   \n",
       "3  47.0   20000     1506  married       no      no     yes   no  unknown    5   \n",
       "4  33.0       0        1   single       no      no      no   no  unknown    5   \n",
       "\n",
       "       month duration  campaign  pdays  previous poutcome response  \\\n",
       "0  may, 2017  261 sec         1     -1         0  unknown       no   \n",
       "1  may, 2017  151 sec         1     -1         0  unknown       no   \n",
       "2  may, 2017   76 sec         1     -1         0  unknown       no   \n",
       "3  may, 2017   92 sec         1     -1         0  unknown       no   \n",
       "4  may, 2017  198 sec         1     -1         0  unknown       no   \n",
       "\n",
       "            job  Education  \n",
       "0    management   tertiary  \n",
       "1    technician  secondary  \n",
       "2  entrepreneur  secondary  \n",
       "3   blue-collar    unknown  \n",
       "4       unknown    unknown  "
      ]
     },
     "execution_count": 7,
     "metadata": {},
     "output_type": "execute_result"
    }
   ],
   "source": [
    "df.drop('jobedu',axis=1,inplace=True)\n",
    "df.head()"
   ]
  },
  {
   "cell_type": "markdown",
   "id": "73ba2238",
   "metadata": {
    "papermill": {
     "duration": 0.019385,
     "end_time": "2022-09-12T18:33:00.041256",
     "exception": false,
     "start_time": "2022-09-12T18:33:00.021871",
     "status": "completed"
    },
    "tags": []
   },
   "source": [
    "# Handling the missing values"
   ]
  },
  {
   "cell_type": "code",
   "execution_count": 8,
   "id": "d4fb6aeb",
   "metadata": {
    "execution": {
     "iopub.execute_input": "2022-09-12T18:33:00.082749Z",
     "iopub.status.busy": "2022-09-12T18:33:00.081986Z",
     "iopub.status.idle": "2022-09-12T18:33:00.115396Z",
     "shell.execute_reply": "2022-09-12T18:33:00.114023Z"
    },
    "papermill": {
     "duration": 0.057483,
     "end_time": "2022-09-12T18:33:00.118379",
     "exception": false,
     "start_time": "2022-09-12T18:33:00.060896",
     "status": "completed"
    },
    "tags": []
   },
   "outputs": [
    {
     "data": {
      "text/plain": [
       "age          20\n",
       "salary        0\n",
       "balance       0\n",
       "marital       0\n",
       "targeted      0\n",
       "default       0\n",
       "housing       0\n",
       "loan          0\n",
       "contact       0\n",
       "day           0\n",
       "month        50\n",
       "duration      0\n",
       "campaign      0\n",
       "pdays         0\n",
       "previous      0\n",
       "poutcome      0\n",
       "response     30\n",
       "job           0\n",
       "Education     0\n",
       "dtype: int64"
      ]
     },
     "execution_count": 8,
     "metadata": {},
     "output_type": "execute_result"
    }
   ],
   "source": [
    "df.isnull().sum()"
   ]
  },
  {
   "cell_type": "code",
   "execution_count": 9,
   "id": "bab4c5c6",
   "metadata": {
    "execution": {
     "iopub.execute_input": "2022-09-12T18:33:00.160795Z",
     "iopub.status.busy": "2022-09-12T18:33:00.160000Z",
     "iopub.status.idle": "2022-09-12T18:33:00.168589Z",
     "shell.execute_reply": "2022-09-12T18:33:00.167642Z"
    },
    "papermill": {
     "duration": 0.032271,
     "end_time": "2022-09-12T18:33:00.170966",
     "exception": false,
     "start_time": "2022-09-12T18:33:00.138695",
     "status": "completed"
    },
    "tags": []
   },
   "outputs": [
    {
     "data": {
      "text/plain": [
       "(45211, 19)"
      ]
     },
     "execution_count": 9,
     "metadata": {},
     "output_type": "execute_result"
    }
   ],
   "source": [
    "df.shape\n"
   ]
  },
  {
   "cell_type": "code",
   "execution_count": 10,
   "id": "1b2518c5",
   "metadata": {
    "execution": {
     "iopub.execute_input": "2022-09-12T18:33:00.215409Z",
     "iopub.status.busy": "2022-09-12T18:33:00.214530Z",
     "iopub.status.idle": "2022-09-12T18:33:00.271572Z",
     "shell.execute_reply": "2022-09-12T18:33:00.270030Z"
    },
    "papermill": {
     "duration": 0.08285,
     "end_time": "2022-09-12T18:33:00.274780",
     "exception": false,
     "start_time": "2022-09-12T18:33:00.191930",
     "status": "completed"
    },
    "tags": []
   },
   "outputs": [
    {
     "data": {
      "text/html": [
       "<div>\n",
       "<style scoped>\n",
       "    .dataframe tbody tr th:only-of-type {\n",
       "        vertical-align: middle;\n",
       "    }\n",
       "\n",
       "    .dataframe tbody tr th {\n",
       "        vertical-align: top;\n",
       "    }\n",
       "\n",
       "    .dataframe thead th {\n",
       "        text-align: right;\n",
       "    }\n",
       "</style>\n",
       "<table border=\"1\" class=\"dataframe\">\n",
       "  <thead>\n",
       "    <tr style=\"text-align: right;\">\n",
       "      <th></th>\n",
       "      <th>age</th>\n",
       "      <th>salary</th>\n",
       "      <th>balance</th>\n",
       "      <th>day</th>\n",
       "      <th>campaign</th>\n",
       "      <th>pdays</th>\n",
       "      <th>previous</th>\n",
       "    </tr>\n",
       "  </thead>\n",
       "  <tbody>\n",
       "    <tr>\n",
       "      <th>count</th>\n",
       "      <td>45191.000000</td>\n",
       "      <td>45211.000000</td>\n",
       "      <td>45211.000000</td>\n",
       "      <td>45211.000000</td>\n",
       "      <td>45211.000000</td>\n",
       "      <td>45211.000000</td>\n",
       "      <td>45211.000000</td>\n",
       "    </tr>\n",
       "    <tr>\n",
       "      <th>mean</th>\n",
       "      <td>40.935651</td>\n",
       "      <td>57006.171065</td>\n",
       "      <td>1362.272058</td>\n",
       "      <td>15.806419</td>\n",
       "      <td>2.763841</td>\n",
       "      <td>40.197828</td>\n",
       "      <td>0.580323</td>\n",
       "    </tr>\n",
       "    <tr>\n",
       "      <th>std</th>\n",
       "      <td>10.619198</td>\n",
       "      <td>32085.718415</td>\n",
       "      <td>3044.765829</td>\n",
       "      <td>8.322476</td>\n",
       "      <td>3.098021</td>\n",
       "      <td>100.128746</td>\n",
       "      <td>2.303441</td>\n",
       "    </tr>\n",
       "    <tr>\n",
       "      <th>min</th>\n",
       "      <td>18.000000</td>\n",
       "      <td>0.000000</td>\n",
       "      <td>-8019.000000</td>\n",
       "      <td>1.000000</td>\n",
       "      <td>1.000000</td>\n",
       "      <td>-1.000000</td>\n",
       "      <td>0.000000</td>\n",
       "    </tr>\n",
       "    <tr>\n",
       "      <th>25%</th>\n",
       "      <td>33.000000</td>\n",
       "      <td>20000.000000</td>\n",
       "      <td>72.000000</td>\n",
       "      <td>8.000000</td>\n",
       "      <td>1.000000</td>\n",
       "      <td>-1.000000</td>\n",
       "      <td>0.000000</td>\n",
       "    </tr>\n",
       "    <tr>\n",
       "      <th>50%</th>\n",
       "      <td>39.000000</td>\n",
       "      <td>60000.000000</td>\n",
       "      <td>448.000000</td>\n",
       "      <td>16.000000</td>\n",
       "      <td>2.000000</td>\n",
       "      <td>-1.000000</td>\n",
       "      <td>0.000000</td>\n",
       "    </tr>\n",
       "    <tr>\n",
       "      <th>75%</th>\n",
       "      <td>48.000000</td>\n",
       "      <td>70000.000000</td>\n",
       "      <td>1428.000000</td>\n",
       "      <td>21.000000</td>\n",
       "      <td>3.000000</td>\n",
       "      <td>-1.000000</td>\n",
       "      <td>0.000000</td>\n",
       "    </tr>\n",
       "    <tr>\n",
       "      <th>max</th>\n",
       "      <td>95.000000</td>\n",
       "      <td>120000.000000</td>\n",
       "      <td>102127.000000</td>\n",
       "      <td>31.000000</td>\n",
       "      <td>63.000000</td>\n",
       "      <td>871.000000</td>\n",
       "      <td>275.000000</td>\n",
       "    </tr>\n",
       "  </tbody>\n",
       "</table>\n",
       "</div>"
      ],
      "text/plain": [
       "                age         salary        balance           day      campaign  \\\n",
       "count  45191.000000   45211.000000   45211.000000  45211.000000  45211.000000   \n",
       "mean      40.935651   57006.171065    1362.272058     15.806419      2.763841   \n",
       "std       10.619198   32085.718415    3044.765829      8.322476      3.098021   \n",
       "min       18.000000       0.000000   -8019.000000      1.000000      1.000000   \n",
       "25%       33.000000   20000.000000      72.000000      8.000000      1.000000   \n",
       "50%       39.000000   60000.000000     448.000000     16.000000      2.000000   \n",
       "75%       48.000000   70000.000000    1428.000000     21.000000      3.000000   \n",
       "max       95.000000  120000.000000  102127.000000     31.000000     63.000000   \n",
       "\n",
       "              pdays      previous  \n",
       "count  45211.000000  45211.000000  \n",
       "mean      40.197828      0.580323  \n",
       "std      100.128746      2.303441  \n",
       "min       -1.000000      0.000000  \n",
       "25%       -1.000000      0.000000  \n",
       "50%       -1.000000      0.000000  \n",
       "75%       -1.000000      0.000000  \n",
       "max      871.000000    275.000000  "
      ]
     },
     "execution_count": 10,
     "metadata": {},
     "output_type": "execute_result"
    }
   ],
   "source": [
    "df.describe()"
   ]
  },
  {
   "cell_type": "code",
   "execution_count": 11,
   "id": "2a200de0",
   "metadata": {
    "execution": {
     "iopub.execute_input": "2022-09-12T18:33:00.320144Z",
     "iopub.status.busy": "2022-09-12T18:33:00.319426Z",
     "iopub.status.idle": "2022-09-12T18:33:00.336197Z",
     "shell.execute_reply": "2022-09-12T18:33:00.335176Z"
    },
    "papermill": {
     "duration": 0.041587,
     "end_time": "2022-09-12T18:33:00.338848",
     "exception": false,
     "start_time": "2022-09-12T18:33:00.297261",
     "status": "completed"
    },
    "tags": []
   },
   "outputs": [],
   "source": [
    "df=df[~df.age.isnull()]"
   ]
  },
  {
   "cell_type": "code",
   "execution_count": 12,
   "id": "696f54e1",
   "metadata": {
    "execution": {
     "iopub.execute_input": "2022-09-12T18:33:00.382349Z",
     "iopub.status.busy": "2022-09-12T18:33:00.381825Z",
     "iopub.status.idle": "2022-09-12T18:33:00.389353Z",
     "shell.execute_reply": "2022-09-12T18:33:00.388079Z"
    },
    "papermill": {
     "duration": 0.032834,
     "end_time": "2022-09-12T18:33:00.392062",
     "exception": false,
     "start_time": "2022-09-12T18:33:00.359228",
     "status": "completed"
    },
    "tags": []
   },
   "outputs": [
    {
     "data": {
      "text/plain": [
       "(45191, 19)"
      ]
     },
     "execution_count": 12,
     "metadata": {},
     "output_type": "execute_result"
    }
   ],
   "source": [
    "df.shape"
   ]
  },
  {
   "cell_type": "code",
   "execution_count": 13,
   "id": "8684e2d2",
   "metadata": {
    "execution": {
     "iopub.execute_input": "2022-09-12T18:33:00.435567Z",
     "iopub.status.busy": "2022-09-12T18:33:00.435126Z",
     "iopub.status.idle": "2022-09-12T18:33:00.443713Z",
     "shell.execute_reply": "2022-09-12T18:33:00.442414Z"
    },
    "papermill": {
     "duration": 0.033235,
     "end_time": "2022-09-12T18:33:00.446245",
     "exception": false,
     "start_time": "2022-09-12T18:33:00.413010",
     "status": "completed"
    },
    "tags": []
   },
   "outputs": [
    {
     "data": {
      "text/plain": [
       "0"
      ]
     },
     "execution_count": 13,
     "metadata": {},
     "output_type": "execute_result"
    }
   ],
   "source": [
    "df.age.isnull().sum()"
   ]
  },
  {
   "cell_type": "code",
   "execution_count": 14,
   "id": "8a9d1fe5",
   "metadata": {
    "execution": {
     "iopub.execute_input": "2022-09-12T18:33:00.489488Z",
     "iopub.status.busy": "2022-09-12T18:33:00.488589Z",
     "iopub.status.idle": "2022-09-12T18:33:00.516709Z",
     "shell.execute_reply": "2022-09-12T18:33:00.515371Z"
    },
    "papermill": {
     "duration": 0.052797,
     "end_time": "2022-09-12T18:33:00.519548",
     "exception": false,
     "start_time": "2022-09-12T18:33:00.466751",
     "status": "completed"
    },
    "tags": []
   },
   "outputs": [
    {
     "data": {
      "text/html": [
       "<div>\n",
       "<style scoped>\n",
       "    .dataframe tbody tr th:only-of-type {\n",
       "        vertical-align: middle;\n",
       "    }\n",
       "\n",
       "    .dataframe tbody tr th {\n",
       "        vertical-align: top;\n",
       "    }\n",
       "\n",
       "    .dataframe thead th {\n",
       "        text-align: right;\n",
       "    }\n",
       "</style>\n",
       "<table border=\"1\" class=\"dataframe\">\n",
       "  <thead>\n",
       "    <tr style=\"text-align: right;\">\n",
       "      <th></th>\n",
       "      <th>age</th>\n",
       "      <th>salary</th>\n",
       "      <th>balance</th>\n",
       "      <th>marital</th>\n",
       "      <th>targeted</th>\n",
       "      <th>default</th>\n",
       "      <th>housing</th>\n",
       "      <th>loan</th>\n",
       "      <th>contact</th>\n",
       "      <th>day</th>\n",
       "      <th>month</th>\n",
       "      <th>duration</th>\n",
       "      <th>campaign</th>\n",
       "      <th>pdays</th>\n",
       "      <th>previous</th>\n",
       "      <th>poutcome</th>\n",
       "      <th>response</th>\n",
       "      <th>job</th>\n",
       "      <th>Education</th>\n",
       "    </tr>\n",
       "  </thead>\n",
       "  <tbody>\n",
       "    <tr>\n",
       "      <th>0</th>\n",
       "      <td>58.0</td>\n",
       "      <td>100000</td>\n",
       "      <td>2143</td>\n",
       "      <td>married</td>\n",
       "      <td>yes</td>\n",
       "      <td>no</td>\n",
       "      <td>yes</td>\n",
       "      <td>no</td>\n",
       "      <td>unknown</td>\n",
       "      <td>5</td>\n",
       "      <td>may, 2017</td>\n",
       "      <td>261 sec</td>\n",
       "      <td>1</td>\n",
       "      <td>-1</td>\n",
       "      <td>0</td>\n",
       "      <td>unknown</td>\n",
       "      <td>no</td>\n",
       "      <td>management</td>\n",
       "      <td>tertiary</td>\n",
       "    </tr>\n",
       "    <tr>\n",
       "      <th>1</th>\n",
       "      <td>44.0</td>\n",
       "      <td>60000</td>\n",
       "      <td>29</td>\n",
       "      <td>single</td>\n",
       "      <td>yes</td>\n",
       "      <td>no</td>\n",
       "      <td>yes</td>\n",
       "      <td>no</td>\n",
       "      <td>unknown</td>\n",
       "      <td>5</td>\n",
       "      <td>may, 2017</td>\n",
       "      <td>151 sec</td>\n",
       "      <td>1</td>\n",
       "      <td>-1</td>\n",
       "      <td>0</td>\n",
       "      <td>unknown</td>\n",
       "      <td>no</td>\n",
       "      <td>technician</td>\n",
       "      <td>secondary</td>\n",
       "    </tr>\n",
       "    <tr>\n",
       "      <th>2</th>\n",
       "      <td>33.0</td>\n",
       "      <td>120000</td>\n",
       "      <td>2</td>\n",
       "      <td>married</td>\n",
       "      <td>yes</td>\n",
       "      <td>no</td>\n",
       "      <td>yes</td>\n",
       "      <td>yes</td>\n",
       "      <td>unknown</td>\n",
       "      <td>5</td>\n",
       "      <td>may, 2017</td>\n",
       "      <td>76 sec</td>\n",
       "      <td>1</td>\n",
       "      <td>-1</td>\n",
       "      <td>0</td>\n",
       "      <td>unknown</td>\n",
       "      <td>no</td>\n",
       "      <td>entrepreneur</td>\n",
       "      <td>secondary</td>\n",
       "    </tr>\n",
       "    <tr>\n",
       "      <th>3</th>\n",
       "      <td>47.0</td>\n",
       "      <td>20000</td>\n",
       "      <td>1506</td>\n",
       "      <td>married</td>\n",
       "      <td>no</td>\n",
       "      <td>no</td>\n",
       "      <td>yes</td>\n",
       "      <td>no</td>\n",
       "      <td>unknown</td>\n",
       "      <td>5</td>\n",
       "      <td>may, 2017</td>\n",
       "      <td>92 sec</td>\n",
       "      <td>1</td>\n",
       "      <td>-1</td>\n",
       "      <td>0</td>\n",
       "      <td>unknown</td>\n",
       "      <td>no</td>\n",
       "      <td>blue-collar</td>\n",
       "      <td>unknown</td>\n",
       "    </tr>\n",
       "    <tr>\n",
       "      <th>4</th>\n",
       "      <td>33.0</td>\n",
       "      <td>0</td>\n",
       "      <td>1</td>\n",
       "      <td>single</td>\n",
       "      <td>no</td>\n",
       "      <td>no</td>\n",
       "      <td>no</td>\n",
       "      <td>no</td>\n",
       "      <td>unknown</td>\n",
       "      <td>5</td>\n",
       "      <td>may, 2017</td>\n",
       "      <td>198 sec</td>\n",
       "      <td>1</td>\n",
       "      <td>-1</td>\n",
       "      <td>0</td>\n",
       "      <td>unknown</td>\n",
       "      <td>no</td>\n",
       "      <td>unknown</td>\n",
       "      <td>unknown</td>\n",
       "    </tr>\n",
       "    <tr>\n",
       "      <th>...</th>\n",
       "      <td>...</td>\n",
       "      <td>...</td>\n",
       "      <td>...</td>\n",
       "      <td>...</td>\n",
       "      <td>...</td>\n",
       "      <td>...</td>\n",
       "      <td>...</td>\n",
       "      <td>...</td>\n",
       "      <td>...</td>\n",
       "      <td>...</td>\n",
       "      <td>...</td>\n",
       "      <td>...</td>\n",
       "      <td>...</td>\n",
       "      <td>...</td>\n",
       "      <td>...</td>\n",
       "      <td>...</td>\n",
       "      <td>...</td>\n",
       "      <td>...</td>\n",
       "      <td>...</td>\n",
       "    </tr>\n",
       "    <tr>\n",
       "      <th>45206</th>\n",
       "      <td>51.0</td>\n",
       "      <td>60000</td>\n",
       "      <td>825</td>\n",
       "      <td>married</td>\n",
       "      <td>yes</td>\n",
       "      <td>no</td>\n",
       "      <td>no</td>\n",
       "      <td>no</td>\n",
       "      <td>cellular</td>\n",
       "      <td>17</td>\n",
       "      <td>nov, 2017</td>\n",
       "      <td>16.2833333333333 min</td>\n",
       "      <td>3</td>\n",
       "      <td>-1</td>\n",
       "      <td>0</td>\n",
       "      <td>unknown</td>\n",
       "      <td>yes</td>\n",
       "      <td>technician</td>\n",
       "      <td>tertiary</td>\n",
       "    </tr>\n",
       "    <tr>\n",
       "      <th>45207</th>\n",
       "      <td>71.0</td>\n",
       "      <td>55000</td>\n",
       "      <td>1729</td>\n",
       "      <td>divorced</td>\n",
       "      <td>yes</td>\n",
       "      <td>no</td>\n",
       "      <td>no</td>\n",
       "      <td>no</td>\n",
       "      <td>cellular</td>\n",
       "      <td>17</td>\n",
       "      <td>nov, 2017</td>\n",
       "      <td>7.6 min</td>\n",
       "      <td>2</td>\n",
       "      <td>-1</td>\n",
       "      <td>0</td>\n",
       "      <td>unknown</td>\n",
       "      <td>yes</td>\n",
       "      <td>retired</td>\n",
       "      <td>primary</td>\n",
       "    </tr>\n",
       "    <tr>\n",
       "      <th>45208</th>\n",
       "      <td>72.0</td>\n",
       "      <td>55000</td>\n",
       "      <td>5715</td>\n",
       "      <td>married</td>\n",
       "      <td>yes</td>\n",
       "      <td>no</td>\n",
       "      <td>no</td>\n",
       "      <td>no</td>\n",
       "      <td>cellular</td>\n",
       "      <td>17</td>\n",
       "      <td>nov, 2017</td>\n",
       "      <td>18.7833333333333 min</td>\n",
       "      <td>5</td>\n",
       "      <td>184</td>\n",
       "      <td>3</td>\n",
       "      <td>success</td>\n",
       "      <td>yes</td>\n",
       "      <td>retired</td>\n",
       "      <td>secondary</td>\n",
       "    </tr>\n",
       "    <tr>\n",
       "      <th>45209</th>\n",
       "      <td>57.0</td>\n",
       "      <td>20000</td>\n",
       "      <td>668</td>\n",
       "      <td>married</td>\n",
       "      <td>yes</td>\n",
       "      <td>no</td>\n",
       "      <td>no</td>\n",
       "      <td>no</td>\n",
       "      <td>telephone</td>\n",
       "      <td>17</td>\n",
       "      <td>nov, 2017</td>\n",
       "      <td>8.46666666666667 min</td>\n",
       "      <td>4</td>\n",
       "      <td>-1</td>\n",
       "      <td>0</td>\n",
       "      <td>unknown</td>\n",
       "      <td>no</td>\n",
       "      <td>blue-collar</td>\n",
       "      <td>secondary</td>\n",
       "    </tr>\n",
       "    <tr>\n",
       "      <th>45210</th>\n",
       "      <td>37.0</td>\n",
       "      <td>120000</td>\n",
       "      <td>2971</td>\n",
       "      <td>married</td>\n",
       "      <td>yes</td>\n",
       "      <td>no</td>\n",
       "      <td>no</td>\n",
       "      <td>no</td>\n",
       "      <td>cellular</td>\n",
       "      <td>17</td>\n",
       "      <td>nov, 2017</td>\n",
       "      <td>6.01666666666667 min</td>\n",
       "      <td>2</td>\n",
       "      <td>188</td>\n",
       "      <td>11</td>\n",
       "      <td>other</td>\n",
       "      <td>no</td>\n",
       "      <td>entrepreneur</td>\n",
       "      <td>secondary</td>\n",
       "    </tr>\n",
       "  </tbody>\n",
       "</table>\n",
       "<p>45191 rows × 19 columns</p>\n",
       "</div>"
      ],
      "text/plain": [
       "        age  salary  balance   marital targeted default housing loan  \\\n",
       "0      58.0  100000     2143   married      yes      no     yes   no   \n",
       "1      44.0   60000       29    single      yes      no     yes   no   \n",
       "2      33.0  120000        2   married      yes      no     yes  yes   \n",
       "3      47.0   20000     1506   married       no      no     yes   no   \n",
       "4      33.0       0        1    single       no      no      no   no   \n",
       "...     ...     ...      ...       ...      ...     ...     ...  ...   \n",
       "45206  51.0   60000      825   married      yes      no      no   no   \n",
       "45207  71.0   55000     1729  divorced      yes      no      no   no   \n",
       "45208  72.0   55000     5715   married      yes      no      no   no   \n",
       "45209  57.0   20000      668   married      yes      no      no   no   \n",
       "45210  37.0  120000     2971   married      yes      no      no   no   \n",
       "\n",
       "         contact  day      month              duration  campaign  pdays  \\\n",
       "0        unknown    5  may, 2017               261 sec         1     -1   \n",
       "1        unknown    5  may, 2017               151 sec         1     -1   \n",
       "2        unknown    5  may, 2017                76 sec         1     -1   \n",
       "3        unknown    5  may, 2017                92 sec         1     -1   \n",
       "4        unknown    5  may, 2017               198 sec         1     -1   \n",
       "...          ...  ...        ...                   ...       ...    ...   \n",
       "45206   cellular   17  nov, 2017  16.2833333333333 min         3     -1   \n",
       "45207   cellular   17  nov, 2017               7.6 min         2     -1   \n",
       "45208   cellular   17  nov, 2017  18.7833333333333 min         5    184   \n",
       "45209  telephone   17  nov, 2017  8.46666666666667 min         4     -1   \n",
       "45210   cellular   17  nov, 2017  6.01666666666667 min         2    188   \n",
       "\n",
       "       previous poutcome response           job  Education  \n",
       "0             0  unknown       no    management   tertiary  \n",
       "1             0  unknown       no    technician  secondary  \n",
       "2             0  unknown       no  entrepreneur  secondary  \n",
       "3             0  unknown       no   blue-collar    unknown  \n",
       "4             0  unknown       no       unknown    unknown  \n",
       "...         ...      ...      ...           ...        ...  \n",
       "45206         0  unknown      yes    technician   tertiary  \n",
       "45207         0  unknown      yes       retired    primary  \n",
       "45208         3  success      yes       retired  secondary  \n",
       "45209         0  unknown       no   blue-collar  secondary  \n",
       "45210        11    other       no  entrepreneur  secondary  \n",
       "\n",
       "[45191 rows x 19 columns]"
      ]
     },
     "execution_count": 14,
     "metadata": {},
     "output_type": "execute_result"
    }
   ],
   "source": [
    "df"
   ]
  },
  {
   "cell_type": "code",
   "execution_count": 15,
   "id": "d7de6ef9",
   "metadata": {
    "execution": {
     "iopub.execute_input": "2022-09-12T18:33:00.565321Z",
     "iopub.status.busy": "2022-09-12T18:33:00.564857Z",
     "iopub.status.idle": "2022-09-12T18:33:00.577627Z",
     "shell.execute_reply": "2022-09-12T18:33:00.576397Z"
    },
    "papermill": {
     "duration": 0.038373,
     "end_time": "2022-09-12T18:33:00.580144",
     "exception": false,
     "start_time": "2022-09-12T18:33:00.541771",
     "status": "completed"
    },
    "tags": []
   },
   "outputs": [],
   "source": [
    "df.month=df.month.fillna(df.month.mode()[0])"
   ]
  },
  {
   "cell_type": "code",
   "execution_count": 16,
   "id": "ec2952a0",
   "metadata": {
    "execution": {
     "iopub.execute_input": "2022-09-12T18:33:00.624484Z",
     "iopub.status.busy": "2022-09-12T18:33:00.624038Z",
     "iopub.status.idle": "2022-09-12T18:33:00.634136Z",
     "shell.execute_reply": "2022-09-12T18:33:00.633036Z"
    },
    "papermill": {
     "duration": 0.035214,
     "end_time": "2022-09-12T18:33:00.636564",
     "exception": false,
     "start_time": "2022-09-12T18:33:00.601350",
     "status": "completed"
    },
    "tags": []
   },
   "outputs": [
    {
     "data": {
      "text/plain": [
       "0"
      ]
     },
     "execution_count": 16,
     "metadata": {},
     "output_type": "execute_result"
    }
   ],
   "source": [
    "df.month.isnull().sum()"
   ]
  },
  {
   "cell_type": "code",
   "execution_count": 17,
   "id": "cc1793e3",
   "metadata": {
    "execution": {
     "iopub.execute_input": "2022-09-12T18:33:00.681501Z",
     "iopub.status.busy": "2022-09-12T18:33:00.681072Z",
     "iopub.status.idle": "2022-09-12T18:33:00.715369Z",
     "shell.execute_reply": "2022-09-12T18:33:00.714104Z"
    },
    "papermill": {
     "duration": 0.060161,
     "end_time": "2022-09-12T18:33:00.718346",
     "exception": false,
     "start_time": "2022-09-12T18:33:00.658185",
     "status": "completed"
    },
    "tags": []
   },
   "outputs": [
    {
     "data": {
      "text/plain": [
       "age           0\n",
       "salary        0\n",
       "balance       0\n",
       "marital       0\n",
       "targeted      0\n",
       "default       0\n",
       "housing       0\n",
       "loan          0\n",
       "contact       0\n",
       "day           0\n",
       "month         0\n",
       "duration      0\n",
       "campaign      0\n",
       "pdays         0\n",
       "previous      0\n",
       "poutcome      0\n",
       "response     30\n",
       "job           0\n",
       "Education     0\n",
       "dtype: int64"
      ]
     },
     "execution_count": 17,
     "metadata": {},
     "output_type": "execute_result"
    }
   ],
   "source": [
    "df.isnull().sum()"
   ]
  },
  {
   "cell_type": "code",
   "execution_count": 18,
   "id": "7184c7ff",
   "metadata": {
    "execution": {
     "iopub.execute_input": "2022-09-12T18:33:00.763603Z",
     "iopub.status.busy": "2022-09-12T18:33:00.763152Z",
     "iopub.status.idle": "2022-09-12T18:33:00.776963Z",
     "shell.execute_reply": "2022-09-12T18:33:00.775633Z"
    },
    "papermill": {
     "duration": 0.039467,
     "end_time": "2022-09-12T18:33:00.779840",
     "exception": false,
     "start_time": "2022-09-12T18:33:00.740373",
     "status": "completed"
    },
    "tags": []
   },
   "outputs": [
    {
     "data": {
      "text/plain": [
       "count    45191.000000\n",
       "mean        40.181253\n",
       "std        100.074099\n",
       "min         -1.000000\n",
       "25%         -1.000000\n",
       "50%         -1.000000\n",
       "75%         -1.000000\n",
       "max        871.000000\n",
       "Name: pdays, dtype: float64"
      ]
     },
     "execution_count": 18,
     "metadata": {},
     "output_type": "execute_result"
    }
   ],
   "source": [
    "df.pdays.describe()"
   ]
  },
  {
   "cell_type": "code",
   "execution_count": 19,
   "id": "6b1abf81",
   "metadata": {
    "execution": {
     "iopub.execute_input": "2022-09-12T18:33:00.825395Z",
     "iopub.status.busy": "2022-09-12T18:33:00.824982Z",
     "iopub.status.idle": "2022-09-12T18:33:00.842603Z",
     "shell.execute_reply": "2022-09-12T18:33:00.841422Z"
    },
    "papermill": {
     "duration": 0.043485,
     "end_time": "2022-09-12T18:33:00.845198",
     "exception": false,
     "start_time": "2022-09-12T18:33:00.801713",
     "status": "completed"
    },
    "tags": []
   },
   "outputs": [
    {
     "data": {
      "text/plain": [
       "count    8252.000000\n",
       "mean      224.523752\n",
       "std       115.202715\n",
       "min         1.000000\n",
       "25%       133.000000\n",
       "50%       194.500000\n",
       "75%       327.000000\n",
       "max       871.000000\n",
       "Name: pdays, dtype: float64"
      ]
     },
     "execution_count": 19,
     "metadata": {},
     "output_type": "execute_result"
    }
   ],
   "source": [
    "df.loc[df.pdays<0,'pdays']=np.NaN\n",
    "df.pdays.describe()"
   ]
  },
  {
   "cell_type": "code",
   "execution_count": 20,
   "id": "b2ffcaea",
   "metadata": {
    "execution": {
     "iopub.execute_input": "2022-09-12T18:33:00.890680Z",
     "iopub.status.busy": "2022-09-12T18:33:00.890255Z",
     "iopub.status.idle": "2022-09-12T18:33:00.924313Z",
     "shell.execute_reply": "2022-09-12T18:33:00.923045Z"
    },
    "papermill": {
     "duration": 0.059393,
     "end_time": "2022-09-12T18:33:00.926745",
     "exception": false,
     "start_time": "2022-09-12T18:33:00.867352",
     "status": "completed"
    },
    "tags": []
   },
   "outputs": [
    {
     "data": {
      "text/plain": [
       "age              0\n",
       "salary           0\n",
       "balance          0\n",
       "marital          0\n",
       "targeted         0\n",
       "default          0\n",
       "housing          0\n",
       "loan             0\n",
       "contact          0\n",
       "day              0\n",
       "month            0\n",
       "duration         0\n",
       "campaign         0\n",
       "pdays        36939\n",
       "previous         0\n",
       "poutcome         0\n",
       "response        30\n",
       "job              0\n",
       "Education        0\n",
       "dtype: int64"
      ]
     },
     "execution_count": 20,
     "metadata": {},
     "output_type": "execute_result"
    }
   ],
   "source": [
    "df.isnull().sum()"
   ]
  },
  {
   "cell_type": "code",
   "execution_count": 21,
   "id": "a99df13a",
   "metadata": {
    "execution": {
     "iopub.execute_input": "2022-09-12T18:33:00.971605Z",
     "iopub.status.busy": "2022-09-12T18:33:00.971200Z",
     "iopub.status.idle": "2022-09-12T18:33:00.983412Z",
     "shell.execute_reply": "2022-09-12T18:33:00.982368Z"
    },
    "papermill": {
     "duration": 0.037355,
     "end_time": "2022-09-12T18:33:00.985641",
     "exception": false,
     "start_time": "2022-09-12T18:33:00.948286",
     "status": "completed"
    },
    "tags": []
   },
   "outputs": [
    {
     "data": {
      "text/plain": [
       "count    45191.000000\n",
       "mean        40.935651\n",
       "std         10.619198\n",
       "min         18.000000\n",
       "25%         33.000000\n",
       "50%         39.000000\n",
       "75%         48.000000\n",
       "max         95.000000\n",
       "Name: age, dtype: float64"
      ]
     },
     "execution_count": 21,
     "metadata": {},
     "output_type": "execute_result"
    }
   ],
   "source": [
    "df.age.describe()"
   ]
  },
  {
   "cell_type": "markdown",
   "id": "ede98b8a",
   "metadata": {
    "papermill": {
     "duration": 0.022087,
     "end_time": "2022-09-12T18:33:01.029354",
     "exception": false,
     "start_time": "2022-09-12T18:33:01.007267",
     "status": "completed"
    },
    "tags": []
   },
   "source": [
    "# Handling the Outliers"
   ]
  },
  {
   "cell_type": "code",
   "execution_count": 22,
   "id": "233b9694",
   "metadata": {
    "execution": {
     "iopub.execute_input": "2022-09-12T18:33:01.074475Z",
     "iopub.status.busy": "2022-09-12T18:33:01.074018Z",
     "iopub.status.idle": "2022-09-12T18:33:01.384352Z",
     "shell.execute_reply": "2022-09-12T18:33:01.383506Z"
    },
    "papermill": {
     "duration": 0.335946,
     "end_time": "2022-09-12T18:33:01.386805",
     "exception": false,
     "start_time": "2022-09-12T18:33:01.050859",
     "status": "completed"
    },
    "tags": []
   },
   "outputs": [
    {
     "data": {
      "text/plain": [
       "<AxesSubplot:ylabel='Frequency'>"
      ]
     },
     "execution_count": 22,
     "metadata": {},
     "output_type": "execute_result"
    },
    {
     "data": {
      "image/png": "[encoded data removed]",
      "text/plain": [
       "<Figure size 432x288 with 1 Axes>"
      ]
     },
     "metadata": {
      "needs_background": "light"
     },
     "output_type": "display_data"
    }
   ],
   "source": [
    "df.age.plot.hist()"
   ]
  },
  {
   "cell_type": "code",
   "execution_count": 23,
   "id": "5cb51115",
   "metadata": {
    "execution": {
     "iopub.execute_input": "2022-09-12T18:33:01.435422Z",
     "iopub.status.busy": "2022-09-12T18:33:01.434401Z",
     "iopub.status.idle": "2022-09-12T18:33:01.579841Z",
     "shell.execute_reply": "2022-09-12T18:33:01.578076Z"
    },
    "papermill": {
     "duration": 0.174101,
     "end_time": "2022-09-12T18:33:01.584097",
     "exception": false,
     "start_time": "2022-09-12T18:33:01.409996",
     "status": "completed"
    },
    "tags": []
   },
   "outputs": [
    {
     "name": "stderr",
     "output_type": "stream",
     "text": [
      "/opt/conda/lib/python3.7/site-packages/seaborn/_decorators.py:43: FutureWarning: Pass the following variable as a keyword arg: x. From version 0.12, the only valid positional argument will be `data`, and passing other arguments without an explicit keyword will result in an error or misinterpretation.\n",
      "  FutureWarning\n"
     ]
    },
    {
     "data": {
      "text/plain": [
       "<AxesSubplot:xlabel='age'>"
      ]
     },
     "execution_count": 23,
     "metadata": {},
     "output_type": "execute_result"
    },
    {
     "data": {
      "image/png": "[encoded data removed]",
      "text/plain": [
       "<Figure size 432x288 with 1 Axes>"
      ]
     },
     "metadata": {
      "needs_background": "light"
     },
     "output_type": "display_data"
    }
   ],
   "source": [
    "sns.boxplot(df.age)\n"
   ]
  },
  {
   "cell_type": "code",
   "execution_count": 24,
   "id": "76ba453f",
   "metadata": {
    "execution": {
     "iopub.execute_input": "2022-09-12T18:33:01.639306Z",
     "iopub.status.busy": "2022-09-12T18:33:01.638509Z",
     "iopub.status.idle": "2022-09-12T18:33:01.650836Z",
     "shell.execute_reply": "2022-09-12T18:33:01.649958Z"
    },
    "papermill": {
     "duration": 0.039011,
     "end_time": "2022-09-12T18:33:01.653226",
     "exception": false,
     "start_time": "2022-09-12T18:33:01.614215",
     "status": "completed"
    },
    "tags": []
   },
   "outputs": [
    {
     "data": {
      "text/plain": [
       "count     45191.000000\n",
       "mean       1362.432520\n",
       "std        3045.120417\n",
       "min       -8019.000000\n",
       "25%          72.000000\n",
       "50%         448.000000\n",
       "75%        1428.000000\n",
       "max      102127.000000\n",
       "Name: balance, dtype: float64"
      ]
     },
     "execution_count": 24,
     "metadata": {},
     "output_type": "execute_result"
    }
   ],
   "source": [
    "df.balance.describe()"
   ]
  },
  {
   "cell_type": "code",
   "execution_count": 25,
   "id": "58c324bf",
   "metadata": {
    "execution": {
     "iopub.execute_input": "2022-09-12T18:33:01.700311Z",
     "iopub.status.busy": "2022-09-12T18:33:01.699566Z",
     "iopub.status.idle": "2022-09-12T18:33:01.903244Z",
     "shell.execute_reply": "2022-09-12T18:33:01.901959Z"
    },
    "papermill": {
     "duration": 0.230329,
     "end_time": "2022-09-12T18:33:01.906085",
     "exception": false,
     "start_time": "2022-09-12T18:33:01.675756",
     "status": "completed"
    },
    "tags": []
   },
   "outputs": [
    {
     "name": "stderr",
     "output_type": "stream",
     "text": [
      "/opt/conda/lib/python3.7/site-packages/seaborn/_decorators.py:43: FutureWarning: Pass the following variable as a keyword arg: x. From version 0.12, the only valid positional argument will be `data`, and passing other arguments without an explicit keyword will result in an error or misinterpretation.\n",
      "  FutureWarning\n"
     ]
    },
    {
     "data": {
      "text/plain": [
       "<AxesSubplot:xlabel='balance'>"
      ]
     },
     "execution_count": 25,
     "metadata": {},
     "output_type": "execute_result"
    },
    {
     "data": {
      "image/png": "[encoded data removed]",
      "text/plain": [
       "<Figure size 720x144 with 1 Axes>"
      ]
     },
     "metadata": {
      "needs_background": "light"
     },
     "output_type": "display_data"
    }
   ],
   "source": [
    "plt.figure(figsize=[10,2])\n",
    "sns.boxplot(df.balance)"
   ]
  },
  {
   "cell_type": "code",
   "execution_count": 26,
   "id": "7a608e77",
   "metadata": {
    "execution": {
     "iopub.execute_input": "2022-09-12T18:33:01.954470Z",
     "iopub.status.busy": "2022-09-12T18:33:01.954013Z",
     "iopub.status.idle": "2022-09-12T18:33:01.967023Z",
     "shell.execute_reply": "2022-09-12T18:33:01.965801Z"
    },
    "papermill": {
     "duration": 0.040639,
     "end_time": "2022-09-12T18:33:01.969645",
     "exception": false,
     "start_time": "2022-09-12T18:33:01.929006",
     "status": "completed"
    },
    "tags": []
   },
   "outputs": [
    {
     "data": {
      "text/plain": [
       "0.50      448.0\n",
       "0.75     1428.0\n",
       "0.90     3575.0\n",
       "0.95     5768.0\n",
       "0.99    13167.1\n",
       "Name: balance, dtype: float64"
      ]
     },
     "execution_count": 26,
     "metadata": {},
     "output_type": "execute_result"
    }
   ],
   "source": [
    "df.balance.quantile([0.5,0.75,0.9,0.95,0.99])"
   ]
  },
  {
   "cell_type": "code",
   "execution_count": 27,
   "id": "0d4014da",
   "metadata": {
    "execution": {
     "iopub.execute_input": "2022-09-12T18:33:02.018533Z",
     "iopub.status.busy": "2022-09-12T18:33:02.018070Z",
     "iopub.status.idle": "2022-09-12T18:33:02.081783Z",
     "shell.execute_reply": "2022-09-12T18:33:02.080909Z"
    },
    "papermill": {
     "duration": 0.090753,
     "end_time": "2022-09-12T18:33:02.083998",
     "exception": false,
     "start_time": "2022-09-12T18:33:01.993245",
     "status": "completed"
    },
    "tags": []
   },
   "outputs": [
    {
     "data": {
      "text/html": [
       "<div>\n",
       "<style scoped>\n",
       "    .dataframe tbody tr th:only-of-type {\n",
       "        vertical-align: middle;\n",
       "    }\n",
       "\n",
       "    .dataframe tbody tr th {\n",
       "        vertical-align: top;\n",
       "    }\n",
       "\n",
       "    .dataframe thead th {\n",
       "        text-align: right;\n",
       "    }\n",
       "</style>\n",
       "<table border=\"1\" class=\"dataframe\">\n",
       "  <thead>\n",
       "    <tr style=\"text-align: right;\">\n",
       "      <th></th>\n",
       "      <th>age</th>\n",
       "      <th>salary</th>\n",
       "      <th>balance</th>\n",
       "      <th>day</th>\n",
       "      <th>campaign</th>\n",
       "      <th>pdays</th>\n",
       "      <th>previous</th>\n",
       "    </tr>\n",
       "  </thead>\n",
       "  <tbody>\n",
       "    <tr>\n",
       "      <th>count</th>\n",
       "      <td>42663.000000</td>\n",
       "      <td>42663.000000</td>\n",
       "      <td>42663.000000</td>\n",
       "      <td>42663.000000</td>\n",
       "      <td>42663.000000</td>\n",
       "      <td>7721.000000</td>\n",
       "      <td>42663.000000</td>\n",
       "    </tr>\n",
       "    <tr>\n",
       "      <th>mean</th>\n",
       "      <td>41.206244</td>\n",
       "      <td>60051.777887</td>\n",
       "      <td>1354.264234</td>\n",
       "      <td>15.843635</td>\n",
       "      <td>2.780489</td>\n",
       "      <td>226.231188</td>\n",
       "      <td>0.576987</td>\n",
       "    </tr>\n",
       "    <tr>\n",
       "      <th>std</th>\n",
       "      <td>10.502831</td>\n",
       "      <td>30399.248483</td>\n",
       "      <td>3054.206374</td>\n",
       "      <td>8.272009</td>\n",
       "      <td>3.119295</td>\n",
       "      <td>114.770454</td>\n",
       "      <td>2.325736</td>\n",
       "    </tr>\n",
       "    <tr>\n",
       "      <th>min</th>\n",
       "      <td>20.000000</td>\n",
       "      <td>16000.000000</td>\n",
       "      <td>-8019.000000</td>\n",
       "      <td>1.000000</td>\n",
       "      <td>1.000000</td>\n",
       "      <td>1.000000</td>\n",
       "      <td>0.000000</td>\n",
       "    </tr>\n",
       "    <tr>\n",
       "      <th>25%</th>\n",
       "      <td>33.000000</td>\n",
       "      <td>20000.000000</td>\n",
       "      <td>69.000000</td>\n",
       "      <td>8.000000</td>\n",
       "      <td>1.000000</td>\n",
       "      <td>136.000000</td>\n",
       "      <td>0.000000</td>\n",
       "    </tr>\n",
       "    <tr>\n",
       "      <th>50%</th>\n",
       "      <td>39.000000</td>\n",
       "      <td>60000.000000</td>\n",
       "      <td>443.000000</td>\n",
       "      <td>16.000000</td>\n",
       "      <td>2.000000</td>\n",
       "      <td>196.000000</td>\n",
       "      <td>0.000000</td>\n",
       "    </tr>\n",
       "    <tr>\n",
       "      <th>75%</th>\n",
       "      <td>49.000000</td>\n",
       "      <td>100000.000000</td>\n",
       "      <td>1412.000000</td>\n",
       "      <td>21.000000</td>\n",
       "      <td>3.000000</td>\n",
       "      <td>329.000000</td>\n",
       "      <td>0.000000</td>\n",
       "    </tr>\n",
       "    <tr>\n",
       "      <th>max</th>\n",
       "      <td>95.000000</td>\n",
       "      <td>120000.000000</td>\n",
       "      <td>102127.000000</td>\n",
       "      <td>31.000000</td>\n",
       "      <td>63.000000</td>\n",
       "      <td>854.000000</td>\n",
       "      <td>275.000000</td>\n",
       "    </tr>\n",
       "  </tbody>\n",
       "</table>\n",
       "</div>"
      ],
      "text/plain": [
       "                age         salary        balance           day      campaign  \\\n",
       "count  42663.000000   42663.000000   42663.000000  42663.000000  42663.000000   \n",
       "mean      41.206244   60051.777887    1354.264234     15.843635      2.780489   \n",
       "std       10.502831   30399.248483    3054.206374      8.272009      3.119295   \n",
       "min       20.000000   16000.000000   -8019.000000      1.000000      1.000000   \n",
       "25%       33.000000   20000.000000      69.000000      8.000000      1.000000   \n",
       "50%       39.000000   60000.000000     443.000000     16.000000      2.000000   \n",
       "75%       49.000000  100000.000000    1412.000000     21.000000      3.000000   \n",
       "max       95.000000  120000.000000  102127.000000     31.000000     63.000000   \n",
       "\n",
       "             pdays      previous  \n",
       "count  7721.000000  42663.000000  \n",
       "mean    226.231188      0.576987  \n",
       "std     114.770454      2.325736  \n",
       "min       1.000000      0.000000  \n",
       "25%     136.000000      0.000000  \n",
       "50%     196.000000      0.000000  \n",
       "75%     329.000000      0.000000  \n",
       "max     854.000000    275.000000  "
      ]
     },
     "execution_count": 27,
     "metadata": {},
     "output_type": "execute_result"
    }
   ],
   "source": [
    "df[df.salary>15000].describe()"
   ]
  },
  {
   "cell_type": "code",
   "execution_count": 28,
   "id": "3a824097",
   "metadata": {
    "execution": {
     "iopub.execute_input": "2022-09-12T18:33:02.132856Z",
     "iopub.status.busy": "2022-09-12T18:33:02.132432Z",
     "iopub.status.idle": "2022-09-12T18:33:02.329620Z",
     "shell.execute_reply": "2022-09-12T18:33:02.328207Z"
    },
    "papermill": {
     "duration": 0.224576,
     "end_time": "2022-09-12T18:33:02.332547",
     "exception": false,
     "start_time": "2022-09-12T18:33:02.107971",
     "status": "completed"
    },
    "tags": []
   },
   "outputs": [
    {
     "name": "stderr",
     "output_type": "stream",
     "text": [
      "/opt/conda/lib/python3.7/site-packages/seaborn/_decorators.py:43: FutureWarning: Pass the following variable as a keyword arg: x. From version 0.12, the only valid positional argument will be `data`, and passing other arguments without an explicit keyword will result in an error or misinterpretation.\n",
      "  FutureWarning\n"
     ]
    },
    {
     "data": {
      "text/plain": [
       "<AxesSubplot:xlabel='salary'>"
      ]
     },
     "execution_count": 28,
     "metadata": {},
     "output_type": "execute_result"
    },
    {
     "data": {
      "image/png": "[encoded data removed]",
      "text/plain": [
       "<Figure size 432x288 with 1 Axes>"
      ]
     },
     "metadata": {
      "needs_background": "light"
     },
     "output_type": "display_data"
    }
   ],
   "source": [
    "sns.boxplot(df.salary)"
   ]
  },
  {
   "cell_type": "markdown",
   "id": "9e52a6a7",
   "metadata": {
    "papermill": {
     "duration": 0.024782,
     "end_time": "2022-09-12T18:33:02.381321",
     "exception": false,
     "start_time": "2022-09-12T18:33:02.356539",
     "status": "completed"
    },
    "tags": []
   },
   "source": [
    "# Standardising Values"
   ]
  },
  {
   "cell_type": "code",
   "execution_count": 29,
   "id": "743e734d",
   "metadata": {
    "execution": {
     "iopub.execute_input": "2022-09-12T18:33:02.431705Z",
     "iopub.status.busy": "2022-09-12T18:33:02.431290Z",
     "iopub.status.idle": "2022-09-12T18:33:02.447710Z",
     "shell.execute_reply": "2022-09-12T18:33:02.446098Z"
    },
    "papermill": {
     "duration": 0.045531,
     "end_time": "2022-09-12T18:33:02.450570",
     "exception": false,
     "start_time": "2022-09-12T18:33:02.405039",
     "status": "completed"
    },
    "tags": []
   },
   "outputs": [
    {
     "data": {
      "text/plain": [
       "1.5 min                 138\n",
       "1.68333333333333 min    129\n",
       "2.06666666666667 min    129\n",
       "1.73333333333333 min    127\n",
       "2.03333333333333 min    127\n",
       "                       ... \n",
       "1500 sec                  1\n",
       "22.1666666666667 min      1\n",
       "868 sec                   1\n",
       "1269 sec                  1\n",
       "16.2833333333333 min      1\n",
       "Name: duration, Length: 2646, dtype: int64"
      ]
     },
     "execution_count": 29,
     "metadata": {},
     "output_type": "execute_result"
    }
   ],
   "source": [
    "df.duration.value_counts()"
   ]
  },
  {
   "cell_type": "code",
   "execution_count": 30,
   "id": "94aa3c83",
   "metadata": {
    "execution": {
     "iopub.execute_input": "2022-09-12T18:33:02.500052Z",
     "iopub.status.busy": "2022-09-12T18:33:02.499642Z",
     "iopub.status.idle": "2022-09-12T18:33:02.552503Z",
     "shell.execute_reply": "2022-09-12T18:33:02.551098Z"
    },
    "papermill": {
     "duration": 0.0814,
     "end_time": "2022-09-12T18:33:02.555329",
     "exception": false,
     "start_time": "2022-09-12T18:33:02.473929",
     "status": "completed"
    },
    "tags": []
   },
   "outputs": [],
   "source": [
    "df.duration=df.duration.apply(lambda x: float(x.split()[0])/60 if x.find(\"sec\")>0 else float(x.split()[0]))\n"
   ]
  },
  {
   "cell_type": "markdown",
   "id": "2bb15e46",
   "metadata": {
    "papermill": {
     "duration": 0.025973,
     "end_time": "2022-09-12T18:33:02.605412",
     "exception": false,
     "start_time": "2022-09-12T18:33:02.579439",
     "status": "completed"
    },
    "tags": []
   },
   "source": [
    "# Univariate Analysis\n",
    "**Categorical Unordered Univariate Analysis**"
   ]
  },
  {
   "cell_type": "code",
   "execution_count": 31,
   "id": "a04aa527",
   "metadata": {
    "execution": {
     "iopub.execute_input": "2022-09-12T18:33:02.653961Z",
     "iopub.status.busy": "2022-09-12T18:33:02.653547Z",
     "iopub.status.idle": "2022-09-12T18:33:02.667593Z",
     "shell.execute_reply": "2022-09-12T18:33:02.666245Z"
    },
    "papermill": {
     "duration": 0.041814,
     "end_time": "2022-09-12T18:33:02.670617",
     "exception": false,
     "start_time": "2022-09-12T18:33:02.628803",
     "status": "completed"
    },
    "tags": []
   },
   "outputs": [
    {
     "data": {
      "text/plain": [
       "count    45191.000000\n",
       "mean         4.303030\n",
       "std          4.292739\n",
       "min          0.000000\n",
       "25%          1.716667\n",
       "50%          3.000000\n",
       "75%          5.316667\n",
       "max         81.966667\n",
       "Name: duration, dtype: float64"
      ]
     },
     "execution_count": 31,
     "metadata": {},
     "output_type": "execute_result"
    }
   ],
   "source": [
    "df.duration.describe()"
   ]
  },
  {
   "cell_type": "code",
   "execution_count": 32,
   "id": "7dd5c391",
   "metadata": {
    "execution": {
     "iopub.execute_input": "2022-09-12T18:33:02.720587Z",
     "iopub.status.busy": "2022-09-12T18:33:02.720141Z",
     "iopub.status.idle": "2022-09-12T18:33:02.733612Z",
     "shell.execute_reply": "2022-09-12T18:33:02.732392Z"
    },
    "papermill": {
     "duration": 0.041232,
     "end_time": "2022-09-12T18:33:02.736241",
     "exception": false,
     "start_time": "2022-09-12T18:33:02.695009",
     "status": "completed"
    },
    "tags": []
   },
   "outputs": [
    {
     "data": {
      "text/plain": [
       "married     0.601978\n",
       "single      0.282932\n",
       "divorced    0.115089\n",
       "Name: marital, dtype: float64"
      ]
     },
     "execution_count": 32,
     "metadata": {},
     "output_type": "execute_result"
    }
   ],
   "source": [
    "df.marital.value_counts(normalize=True)"
   ]
  },
  {
   "cell_type": "code",
   "execution_count": 33,
   "id": "1d660024",
   "metadata": {
    "execution": {
     "iopub.execute_input": "2022-09-12T18:33:02.785016Z",
     "iopub.status.busy": "2022-09-12T18:33:02.784616Z",
     "iopub.status.idle": "2022-09-12T18:33:02.993659Z",
     "shell.execute_reply": "2022-09-12T18:33:02.992394Z"
    },
    "papermill": {
     "duration": 0.236621,
     "end_time": "2022-09-12T18:33:02.996450",
     "exception": false,
     "start_time": "2022-09-12T18:33:02.759829",
     "status": "completed"
    },
    "tags": []
   },
   "outputs": [
    {
     "data": {
      "text/plain": [
       "<AxesSubplot:>"
      ]
     },
     "execution_count": 33,
     "metadata": {},
     "output_type": "execute_result"
    },
    {
     "data": {
      "image/png": "[encoded data removed]",
      "text/plain": [
       "<Figure size 432x288 with 1 Axes>"
      ]
     },
     "metadata": {
      "needs_background": "light"
     },
     "output_type": "display_data"
    }
   ],
   "source": [
    "df.marital.value_counts(normalize=True).plot.bar()"
   ]
  },
  {
   "cell_type": "code",
   "execution_count": 34,
   "id": "9a292ff5",
   "metadata": {
    "execution": {
     "iopub.execute_input": "2022-09-12T18:33:03.051857Z",
     "iopub.status.busy": "2022-09-12T18:33:03.051413Z",
     "iopub.status.idle": "2022-09-12T18:33:03.065539Z",
     "shell.execute_reply": "2022-09-12T18:33:03.064406Z"
    },
    "papermill": {
     "duration": 0.047139,
     "end_time": "2022-09-12T18:33:03.068068",
     "exception": false,
     "start_time": "2022-09-12T18:33:03.020929",
     "status": "completed"
    },
    "tags": []
   },
   "outputs": [
    {
     "data": {
      "text/plain": [
       "blue-collar      0.215242\n",
       "management       0.209223\n",
       "technician       0.168042\n",
       "admin.           0.114403\n",
       "services         0.091877\n",
       "retired          0.050076\n",
       "self-employed    0.034918\n",
       "entrepreneur     0.032861\n",
       "unemployed       0.028811\n",
       "housemaid        0.027417\n",
       "student          0.020756\n",
       "unknown          0.006373\n",
       "Name: job, dtype: float64"
      ]
     },
     "execution_count": 34,
     "metadata": {},
     "output_type": "execute_result"
    }
   ],
   "source": [
    "df.job.value_counts(normalize=True)"
   ]
  },
  {
   "cell_type": "code",
   "execution_count": 35,
   "id": "5b4eae09",
   "metadata": {
    "execution": {
     "iopub.execute_input": "2022-09-12T18:33:03.120654Z",
     "iopub.status.busy": "2022-09-12T18:33:03.119727Z",
     "iopub.status.idle": "2022-09-12T18:33:03.378853Z",
     "shell.execute_reply": "2022-09-12T18:33:03.377943Z"
    },
    "papermill": {
     "duration": 0.287724,
     "end_time": "2022-09-12T18:33:03.381246",
     "exception": false,
     "start_time": "2022-09-12T18:33:03.093522",
     "status": "completed"
    },
    "tags": []
   },
   "outputs": [
    {
     "data": {
      "text/plain": [
       "<AxesSubplot:>"
      ]
     },
     "execution_count": 35,
     "metadata": {},
     "output_type": "execute_result"
    },
    {
     "data": {
      "image/png": "[encoded data removed]",
      "text/plain": [
       "<Figure size 432x288 with 1 Axes>"
      ]
     },
     "metadata": {
      "needs_background": "light"
     },
     "output_type": "display_data"
    }
   ],
   "source": [
    "df.job.value_counts(normalize=True).plot.bar()"
   ]
  },
  {
   "cell_type": "markdown",
   "id": "629a6de6",
   "metadata": {
    "papermill": {
     "duration": 0.024825,
     "end_time": "2022-09-12T18:33:03.430906",
     "exception": false,
     "start_time": "2022-09-12T18:33:03.406081",
     "status": "completed"
    },
    "tags": []
   },
   "source": [
    "**Categorical Ordered Univariate Analysis**"
   ]
  },
  {
   "cell_type": "code",
   "execution_count": 36,
   "id": "32b42be1",
   "metadata": {
    "execution": {
     "iopub.execute_input": "2022-09-12T18:33:03.482146Z",
     "iopub.status.busy": "2022-09-12T18:33:03.480906Z",
     "iopub.status.idle": "2022-09-12T18:33:03.495674Z",
     "shell.execute_reply": "2022-09-12T18:33:03.494289Z"
    },
    "papermill": {
     "duration": 0.043316,
     "end_time": "2022-09-12T18:33:03.498560",
     "exception": false,
     "start_time": "2022-09-12T18:33:03.455244",
     "status": "completed"
    },
    "tags": []
   },
   "outputs": [
    {
     "data": {
      "text/plain": [
       "secondary    0.513222\n",
       "tertiary     0.294196\n",
       "primary      0.151490\n",
       "unknown      0.041092\n",
       "Name: Education, dtype: float64"
      ]
     },
     "execution_count": 36,
     "metadata": {},
     "output_type": "execute_result"
    }
   ],
   "source": [
    "df.Education.value_counts(normalize=True)"
   ]
  },
  {
   "cell_type": "code",
   "execution_count": 37,
   "id": "7b3ef2e4",
   "metadata": {
    "execution": {
     "iopub.execute_input": "2022-09-12T18:33:03.549957Z",
     "iopub.status.busy": "2022-09-12T18:33:03.549535Z",
     "iopub.status.idle": "2022-09-12T18:33:03.684302Z",
     "shell.execute_reply": "2022-09-12T18:33:03.682888Z"
    },
    "papermill": {
     "duration": 0.164724,
     "end_time": "2022-09-12T18:33:03.688420",
     "exception": false,
     "start_time": "2022-09-12T18:33:03.523696",
     "status": "completed"
    },
    "tags": []
   },
   "outputs": [
    {
     "data": {
      "text/plain": [
       "<AxesSubplot:ylabel='Education'>"
      ]
     },
     "execution_count": 37,
     "metadata": {},
     "output_type": "execute_result"
    },
    {
     "data": {
      "image/png": "[encoded data removed]",
      "text/plain": [
       "<Figure size 432x288 with 1 Axes>"
      ]
     },
     "metadata": {},
     "output_type": "display_data"
    }
   ],
   "source": [
    "df.Education.value_counts(normalize=True).plot.pie()"
   ]
  },
  {
   "cell_type": "code",
   "execution_count": 38,
   "id": "c20055aa",
   "metadata": {
    "execution": {
     "iopub.execute_input": "2022-09-12T18:33:03.788509Z",
     "iopub.status.busy": "2022-09-12T18:33:03.788062Z",
     "iopub.status.idle": "2022-09-12T18:33:04.017837Z",
     "shell.execute_reply": "2022-09-12T18:33:04.016460Z"
    },
    "papermill": {
     "duration": 0.265945,
     "end_time": "2022-09-12T18:33:04.020432",
     "exception": false,
     "start_time": "2022-09-12T18:33:03.754487",
     "status": "completed"
    },
    "tags": []
   },
   "outputs": [
    {
     "data": {
      "text/plain": [
       "<AxesSubplot:>"
      ]
     },
     "execution_count": 38,
     "metadata": {},
     "output_type": "execute_result"
    },
    {
     "data": {
      "image/png": "[encoded data removed]",
      "text/plain": [
       "<Figure size 432x288 with 1 Axes>"
      ]
     },
     "metadata": {
      "needs_background": "light"
     },
     "output_type": "display_data"
    }
   ],
   "source": [
    "df.poutcome.value_counts(normalize=True).plot.bar()"
   ]
  },
  {
   "cell_type": "code",
   "execution_count": 39,
   "id": "5fbfeeb0",
   "metadata": {
    "execution": {
     "iopub.execute_input": "2022-09-12T18:33:04.072637Z",
     "iopub.status.busy": "2022-09-12T18:33:04.072247Z",
     "iopub.status.idle": "2022-09-12T18:33:04.280520Z",
     "shell.execute_reply": "2022-09-12T18:33:04.279259Z"
    },
    "papermill": {
     "duration": 0.237312,
     "end_time": "2022-09-12T18:33:04.282977",
     "exception": false,
     "start_time": "2022-09-12T18:33:04.045665",
     "status": "completed"
    },
    "tags": []
   },
   "outputs": [
    {
     "data": {
      "text/plain": [
       "<AxesSubplot:>"
      ]
     },
     "execution_count": 39,
     "metadata": {},
     "output_type": "execute_result"
    },
    {
     "data": {
      "image/png": "[encoded data removed]",
      "text/plain": [
       "<Figure size 432x288 with 1 Axes>"
      ]
     },
     "metadata": {
      "needs_background": "light"
     },
     "output_type": "display_data"
    }
   ],
   "source": [
    "df[~(df.poutcome=='unknown')].poutcome.value_counts(normalize=True).plot.bar()"
   ]
  },
  {
   "cell_type": "code",
   "execution_count": 40,
   "id": "d17995fa",
   "metadata": {
    "execution": {
     "iopub.execute_input": "2022-09-12T18:33:04.338891Z",
     "iopub.status.busy": "2022-09-12T18:33:04.338497Z",
     "iopub.status.idle": "2022-09-12T18:33:04.450966Z",
     "shell.execute_reply": "2022-09-12T18:33:04.448846Z"
    },
    "papermill": {
     "duration": 0.145109,
     "end_time": "2022-09-12T18:33:04.456133",
     "exception": false,
     "start_time": "2022-09-12T18:33:04.311024",
     "status": "completed"
    },
    "tags": []
   },
   "outputs": [
    {
     "data": {
      "text/plain": [
       "<AxesSubplot:ylabel='response'>"
      ]
     },
     "execution_count": 40,
     "metadata": {},
     "output_type": "execute_result"
    },
    {
     "data": {
      "image/png": "[encoded data removed]",
      "text/plain": [
       "<Figure size 432x288 with 1 Axes>"
      ]
     },
     "metadata": {},
     "output_type": "display_data"
    }
   ],
   "source": [
    "df.response.value_counts().plot.pie()"
   ]
  },
  {
   "cell_type": "markdown",
   "id": "2f2cb8ae",
   "metadata": {
    "papermill": {
     "duration": 0.032979,
     "end_time": "2022-09-12T18:33:04.559375",
     "exception": false,
     "start_time": "2022-09-12T18:33:04.526396",
     "status": "completed"
    },
    "tags": []
   },
   "source": [
    "# Bivariate and Multivariate Analysis"
   ]
  },
  {
   "cell_type": "code",
   "execution_count": 41,
   "id": "91775fcb",
   "metadata": {
    "execution": {
     "iopub.execute_input": "2022-09-12T18:33:04.614765Z",
     "iopub.status.busy": "2022-09-12T18:33:04.614005Z",
     "iopub.status.idle": "2022-09-12T18:33:08.662676Z",
     "shell.execute_reply": "2022-09-12T18:33:08.661368Z"
    },
    "papermill": {
     "duration": 4.079517,
     "end_time": "2022-09-12T18:33:08.665832",
     "exception": false,
     "start_time": "2022-09-12T18:33:04.586315",
     "status": "completed"
    },
    "tags": []
   },
   "outputs": [
    {
     "name": "stderr",
     "output_type": "stream",
     "text": [
      "/opt/conda/lib/python3.7/site-packages/seaborn/_decorators.py:43: FutureWarning: Pass the following variables as keyword args: x, y. From version 0.12, the only valid positional argument will be `data`, and passing other arguments without an explicit keyword will result in an error or misinterpretation.\n",
      "  FutureWarning\n"
     ]
    },
    {
     "data": {
      "text/plain": [
       "<AxesSubplot:xlabel='salary', ylabel='balance'>"
      ]
     },
     "execution_count": 41,
     "metadata": {},
     "output_type": "execute_result"
    },
    {
     "data": {
      "image/png": "[encoded data removed]",
      "text/plain": [
       "<Figure size 432x288 with 1 Axes>"
      ]
     },
     "metadata": {
      "needs_background": "light"
     },
     "output_type": "display_data"
    }
   ],
   "source": [
    "sns.regplot(df.salary,df.balance)"
   ]
  },
  {
   "cell_type": "code",
   "execution_count": 42,
   "id": "a826a1d1",
   "metadata": {
    "execution": {
     "iopub.execute_input": "2022-09-12T18:33:08.722996Z",
     "iopub.status.busy": "2022-09-12T18:33:08.722327Z",
     "iopub.status.idle": "2022-09-12T18:33:12.869239Z",
     "shell.execute_reply": "2022-09-12T18:33:12.867493Z"
    },
    "papermill": {
     "duration": 4.179056,
     "end_time": "2022-09-12T18:33:12.872328",
     "exception": false,
     "start_time": "2022-09-12T18:33:08.693272",
     "status": "completed"
    },
    "tags": []
   },
   "outputs": [
    {
     "data": {
      "text/plain": [
       "<AxesSubplot:xlabel='age', ylabel='balance'>"
      ]
     },
     "execution_count": 42,
     "metadata": {},
     "output_type": "execute_result"
    },
    {
     "data": {
      "image/png": "[encoded data removed]",
      "text/plain": [
       "<Figure size 432x288 with 1 Axes>"
      ]
     },
     "metadata": {
      "needs_background": "light"
     },
     "output_type": "display_data"
    }
   ],
   "source": [
    "sns.regplot(df.age,df.balance)"
   ]
  },
  {
   "cell_type": "code",
   "execution_count": 43,
   "id": "d4b77dcc",
   "metadata": {
    "execution": {
     "iopub.execute_input": "2022-09-12T18:33:12.928900Z",
     "iopub.status.busy": "2022-09-12T18:33:12.928449Z",
     "iopub.status.idle": "2022-09-12T18:33:19.446251Z",
     "shell.execute_reply": "2022-09-12T18:33:19.444447Z"
    },
    "papermill": {
     "duration": 6.549759,
     "end_time": "2022-09-12T18:33:19.449483",
     "exception": false,
     "start_time": "2022-09-12T18:33:12.899724",
     "status": "completed"
    },
    "tags": []
   },
   "outputs": [
    {
     "data": {
      "text/plain": [
       "<seaborn.axisgrid.PairGrid at 0x7f468c58cad0>"
      ]
     },
     "execution_count": 43,
     "metadata": {},
     "output_type": "execute_result"
    },
    {
     "data": {
      "image/png": "[encoded data removed]",
      "text/plain": [
       "<Figure size 540x540 with 12 Axes>"
      ]
     },
     "metadata": {
      "needs_background": "light"
     },
     "output_type": "display_data"
    }
   ],
   "source": [
    "sns.pairplot(df,vars=['salary','balance','age'])"
   ]
  },
  {
   "cell_type": "code",
   "execution_count": 44,
   "id": "dd8852ba",
   "metadata": {
    "execution": {
     "iopub.execute_input": "2022-09-12T18:33:19.513530Z",
     "iopub.status.busy": "2022-09-12T18:33:19.513111Z",
     "iopub.status.idle": "2022-09-12T18:33:19.531446Z",
     "shell.execute_reply": "2022-09-12T18:33:19.530089Z"
    },
    "papermill": {
     "duration": 0.053072,
     "end_time": "2022-09-12T18:33:19.533984",
     "exception": false,
     "start_time": "2022-09-12T18:33:19.480912",
     "status": "completed"
    },
    "tags": []
   },
   "outputs": [
    {
     "data": {
      "text/html": [
       "<div>\n",
       "<style scoped>\n",
       "    .dataframe tbody tr th:only-of-type {\n",
       "        vertical-align: middle;\n",
       "    }\n",
       "\n",
       "    .dataframe tbody tr th {\n",
       "        vertical-align: top;\n",
       "    }\n",
       "\n",
       "    .dataframe thead th {\n",
       "        text-align: right;\n",
       "    }\n",
       "</style>\n",
       "<table border=\"1\" class=\"dataframe\">\n",
       "  <thead>\n",
       "    <tr style=\"text-align: right;\">\n",
       "      <th></th>\n",
       "      <th>salary</th>\n",
       "      <th>balance</th>\n",
       "      <th>age</th>\n",
       "    </tr>\n",
       "  </thead>\n",
       "  <tbody>\n",
       "    <tr>\n",
       "      <th>salary</th>\n",
       "      <td>1.000000</td>\n",
       "      <td>0.055505</td>\n",
       "      <td>0.024374</td>\n",
       "    </tr>\n",
       "    <tr>\n",
       "      <th>balance</th>\n",
       "      <td>0.055505</td>\n",
       "      <td>1.000000</td>\n",
       "      <td>0.097755</td>\n",
       "    </tr>\n",
       "    <tr>\n",
       "      <th>age</th>\n",
       "      <td>0.024374</td>\n",
       "      <td>0.097755</td>\n",
       "      <td>1.000000</td>\n",
       "    </tr>\n",
       "  </tbody>\n",
       "</table>\n",
       "</div>"
      ],
      "text/plain": [
       "           salary   balance       age\n",
       "salary   1.000000  0.055505  0.024374\n",
       "balance  0.055505  1.000000  0.097755\n",
       "age      0.024374  0.097755  1.000000"
      ]
     },
     "execution_count": 44,
     "metadata": {},
     "output_type": "execute_result"
    }
   ],
   "source": [
    "df[['salary','balance','age']].corr()"
   ]
  },
  {
   "cell_type": "code",
   "execution_count": 45,
   "id": "14120070",
   "metadata": {
    "execution": {
     "iopub.execute_input": "2022-09-12T18:33:19.594511Z",
     "iopub.status.busy": "2022-09-12T18:33:19.593746Z",
     "iopub.status.idle": "2022-09-12T18:33:19.874337Z",
     "shell.execute_reply": "2022-09-12T18:33:19.873110Z"
    },
    "papermill": {
     "duration": 0.313983,
     "end_time": "2022-09-12T18:33:19.876867",
     "exception": false,
     "start_time": "2022-09-12T18:33:19.562884",
     "status": "completed"
    },
    "tags": []
   },
   "outputs": [
    {
     "data": {
      "text/plain": [
       "<AxesSubplot:>"
      ]
     },
     "execution_count": 45,
     "metadata": {},
     "output_type": "execute_result"
    },
    {
     "data": {
      "image/png": "[encoded data removed]",
      "text/plain": [
       "<Figure size 432x288 with 2 Axes>"
      ]
     },
     "metadata": {
      "needs_background": "light"
     },
     "output_type": "display_data"
    }
   ],
   "source": [
    "sns.heatmap(df[['salary','balance','age']].corr(),annot=True,cmap='Reds')"
   ]
  },
  {
   "cell_type": "code",
   "execution_count": 46,
   "id": "31f85d56",
   "metadata": {
    "execution": {
     "iopub.execute_input": "2022-09-12T18:33:19.937385Z",
     "iopub.status.busy": "2022-09-12T18:33:19.936283Z",
     "iopub.status.idle": "2022-09-12T18:33:19.950743Z",
     "shell.execute_reply": "2022-09-12T18:33:19.949842Z"
    },
    "papermill": {
     "duration": 0.047153,
     "end_time": "2022-09-12T18:33:19.952934",
     "exception": false,
     "start_time": "2022-09-12T18:33:19.905781",
     "status": "completed"
    },
    "tags": []
   },
   "outputs": [
    {
     "data": {
      "text/plain": [
       "response\n",
       "no     56769.510482\n",
       "yes    58780.510880\n",
       "Name: salary, dtype: float64"
      ]
     },
     "execution_count": 46,
     "metadata": {},
     "output_type": "execute_result"
    }
   ],
   "source": [
    "df.groupby('response')['salary'].mean()"
   ]
  },
  {
   "cell_type": "code",
   "execution_count": 47,
   "id": "13b1aaf4",
   "metadata": {
    "execution": {
     "iopub.execute_input": "2022-09-12T18:33:20.015541Z",
     "iopub.status.busy": "2022-09-12T18:33:20.014666Z",
     "iopub.status.idle": "2022-09-12T18:33:20.029691Z",
     "shell.execute_reply": "2022-09-12T18:33:20.028749Z"
    },
    "papermill": {
     "duration": 0.049291,
     "end_time": "2022-09-12T18:33:20.032091",
     "exception": false,
     "start_time": "2022-09-12T18:33:19.982800",
     "status": "completed"
    },
    "tags": []
   },
   "outputs": [
    {
     "data": {
      "text/plain": [
       "response\n",
       "no     60000.0\n",
       "yes    60000.0\n",
       "Name: salary, dtype: float64"
      ]
     },
     "execution_count": 47,
     "metadata": {},
     "output_type": "execute_result"
    }
   ],
   "source": [
    "df.groupby('response')['salary'].median()"
   ]
  },
  {
   "cell_type": "code",
   "execution_count": 48,
   "id": "24a5c1bd",
   "metadata": {
    "execution": {
     "iopub.execute_input": "2022-09-12T18:33:20.094021Z",
     "iopub.status.busy": "2022-09-12T18:33:20.093338Z",
     "iopub.status.idle": "2022-09-12T18:33:20.321204Z",
     "shell.execute_reply": "2022-09-12T18:33:20.319927Z"
    },
    "papermill": {
     "duration": 0.26217,
     "end_time": "2022-09-12T18:33:20.324050",
     "exception": false,
     "start_time": "2022-09-12T18:33:20.061880",
     "status": "completed"
    },
    "tags": []
   },
   "outputs": [
    {
     "data": {
      "text/plain": [
       "<AxesSubplot:xlabel='response', ylabel='salary'>"
      ]
     },
     "execution_count": 48,
     "metadata": {},
     "output_type": "execute_result"
    },
    {
     "data": {
      "image/png": "[encoded data removed]",
      "text/plain": [
       "<Figure size 432x288 with 1 Axes>"
      ]
     },
     "metadata": {
      "needs_background": "light"
     },
     "output_type": "display_data"
    }
   ],
   "source": [
    "sns.boxplot(data=df,x='response',y='salary')"
   ]
  },
  {
   "cell_type": "code",
   "execution_count": 49,
   "id": "d04b899b",
   "metadata": {
    "execution": {
     "iopub.execute_input": "2022-09-12T18:33:20.386728Z",
     "iopub.status.busy": "2022-09-12T18:33:20.386287Z",
     "iopub.status.idle": "2022-09-12T18:33:20.633724Z",
     "shell.execute_reply": "2022-09-12T18:33:20.632924Z"
    },
    "papermill": {
     "duration": 0.281382,
     "end_time": "2022-09-12T18:33:20.635900",
     "exception": false,
     "start_time": "2022-09-12T18:33:20.354518",
     "status": "completed"
    },
    "tags": []
   },
   "outputs": [
    {
     "data": {
      "text/plain": [
       "<AxesSubplot:xlabel='response', ylabel='balance'>"
      ]
     },
     "execution_count": 49,
     "metadata": {},
     "output_type": "execute_result"
    },
    {
     "data": {
      "image/png": "[encoded data removed]",
      "text/plain": [
       "<Figure size 432x288 with 1 Axes>"
      ]
     },
     "metadata": {
      "needs_background": "light"
     },
     "output_type": "display_data"
    }
   ],
   "source": [
    "sns.boxplot(data=df,x='response',y='balance')"
   ]
  },
  {
   "cell_type": "code",
   "execution_count": 50,
   "id": "823a1fc8",
   "metadata": {
    "execution": {
     "iopub.execute_input": "2022-09-12T18:33:20.700420Z",
     "iopub.status.busy": "2022-09-12T18:33:20.699653Z",
     "iopub.status.idle": "2022-09-12T18:33:20.714291Z",
     "shell.execute_reply": "2022-09-12T18:33:20.713009Z"
    },
    "papermill": {
     "duration": 0.050541,
     "end_time": "2022-09-12T18:33:20.716893",
     "exception": false,
     "start_time": "2022-09-12T18:33:20.666352",
     "status": "completed"
    },
    "tags": []
   },
   "outputs": [
    {
     "data": {
      "text/plain": [
       "response\n",
       "no     417.0\n",
       "yes    733.0\n",
       "Name: balance, dtype: float64"
      ]
     },
     "execution_count": 50,
     "metadata": {},
     "output_type": "execute_result"
    }
   ],
   "source": [
    "df.groupby('response')['balance'].median()"
   ]
  },
  {
   "cell_type": "code",
   "execution_count": 51,
   "id": "3552b5c3",
   "metadata": {
    "execution": {
     "iopub.execute_input": "2022-09-12T18:33:20.781441Z",
     "iopub.status.busy": "2022-09-12T18:33:20.780599Z",
     "iopub.status.idle": "2022-09-12T18:33:20.793858Z",
     "shell.execute_reply": "2022-09-12T18:33:20.792938Z"
    },
    "papermill": {
     "duration": 0.048756,
     "end_time": "2022-09-12T18:33:20.796451",
     "exception": false,
     "start_time": "2022-09-12T18:33:20.747695",
     "status": "completed"
    },
    "tags": []
   },
   "outputs": [
    {
     "data": {
      "text/plain": [
       "response\n",
       "no     1304.292281\n",
       "yes    1804.681362\n",
       "Name: balance, dtype: float64"
      ]
     },
     "execution_count": 51,
     "metadata": {},
     "output_type": "execute_result"
    }
   ],
   "source": [
    "df.groupby('response')['balance'].mean()"
   ]
  },
  {
   "cell_type": "code",
   "execution_count": 52,
   "id": "6716016d",
   "metadata": {
    "execution": {
     "iopub.execute_input": "2022-09-12T18:33:20.859252Z",
     "iopub.status.busy": "2022-09-12T18:33:20.858486Z",
     "iopub.status.idle": "2022-09-12T18:33:20.863050Z",
     "shell.execute_reply": "2022-09-12T18:33:20.862242Z"
    },
    "papermill": {
     "duration": 0.038882,
     "end_time": "2022-09-12T18:33:20.865547",
     "exception": false,
     "start_time": "2022-09-12T18:33:20.826665",
     "status": "completed"
    },
    "tags": []
   },
   "outputs": [],
   "source": [
    "def p75(x):\n",
    "    return np.quantile(x,0.75)"
   ]
  },
  {
   "cell_type": "code",
   "execution_count": 53,
   "id": "6f843a7c",
   "metadata": {
    "execution": {
     "iopub.execute_input": "2022-09-12T18:33:20.927672Z",
     "iopub.status.busy": "2022-09-12T18:33:20.927258Z",
     "iopub.status.idle": "2022-09-12T18:33:20.949481Z",
     "shell.execute_reply": "2022-09-12T18:33:20.948501Z"
    },
    "papermill": {
     "duration": 0.056076,
     "end_time": "2022-09-12T18:33:20.951854",
     "exception": false,
     "start_time": "2022-09-12T18:33:20.895778",
     "status": "completed"
    },
    "tags": []
   },
   "outputs": [
    {
     "data": {
      "text/html": [
       "<div>\n",
       "<style scoped>\n",
       "    .dataframe tbody tr th:only-of-type {\n",
       "        vertical-align: middle;\n",
       "    }\n",
       "\n",
       "    .dataframe tbody tr th {\n",
       "        vertical-align: top;\n",
       "    }\n",
       "\n",
       "    .dataframe thead th {\n",
       "        text-align: right;\n",
       "    }\n",
       "</style>\n",
       "<table border=\"1\" class=\"dataframe\">\n",
       "  <thead>\n",
       "    <tr style=\"text-align: right;\">\n",
       "      <th></th>\n",
       "      <th>mean</th>\n",
       "      <th>median</th>\n",
       "      <th>p75</th>\n",
       "    </tr>\n",
       "    <tr>\n",
       "      <th>response</th>\n",
       "      <th></th>\n",
       "      <th></th>\n",
       "      <th></th>\n",
       "    </tr>\n",
       "  </thead>\n",
       "  <tbody>\n",
       "    <tr>\n",
       "      <th>no</th>\n",
       "      <td>1304.292281</td>\n",
       "      <td>417.0</td>\n",
       "      <td>1345.0</td>\n",
       "    </tr>\n",
       "    <tr>\n",
       "      <th>yes</th>\n",
       "      <td>1804.681362</td>\n",
       "      <td>733.0</td>\n",
       "      <td>2159.0</td>\n",
       "    </tr>\n",
       "  </tbody>\n",
       "</table>\n",
       "</div>"
      ],
      "text/plain": [
       "                 mean  median     p75\n",
       "response                             \n",
       "no        1304.292281   417.0  1345.0\n",
       "yes       1804.681362   733.0  2159.0"
      ]
     },
     "execution_count": 53,
     "metadata": {},
     "output_type": "execute_result"
    }
   ],
   "source": [
    "df.groupby('response')['balance'].aggregate(['mean','median',p75])"
   ]
  },
  {
   "cell_type": "code",
   "execution_count": 54,
   "id": "a0db3fba",
   "metadata": {
    "execution": {
     "iopub.execute_input": "2022-09-12T18:33:21.015108Z",
     "iopub.status.busy": "2022-09-12T18:33:21.014062Z",
     "iopub.status.idle": "2022-09-12T18:33:21.247800Z",
     "shell.execute_reply": "2022-09-12T18:33:21.246896Z"
    },
    "papermill": {
     "duration": 0.267841,
     "end_time": "2022-09-12T18:33:21.250174",
     "exception": false,
     "start_time": "2022-09-12T18:33:20.982333",
     "status": "completed"
    },
    "tags": []
   },
   "outputs": [
    {
     "data": {
      "text/plain": [
       "<AxesSubplot:xlabel='response'>"
      ]
     },
     "execution_count": 54,
     "metadata": {},
     "output_type": "execute_result"
    },
    {
     "data": {
      "image/png": "[encoded data removed]",
      "text/plain": [
       "<Figure size 432x288 with 1 Axes>"
      ]
     },
     "metadata": {
      "needs_background": "light"
     },
     "output_type": "display_data"
    }
   ],
   "source": [
    "df.groupby('response')['balance'].aggregate(['mean','median',p75]).plot.bar()"
   ]
  },
  {
   "cell_type": "code",
   "execution_count": 55,
   "id": "006ff012",
   "metadata": {
    "execution": {
     "iopub.execute_input": "2022-09-12T18:33:21.314613Z",
     "iopub.status.busy": "2022-09-12T18:33:21.313656Z",
     "iopub.status.idle": "2022-09-12T18:33:21.329424Z",
     "shell.execute_reply": "2022-09-12T18:33:21.328129Z"
    },
    "papermill": {
     "duration": 0.050555,
     "end_time": "2022-09-12T18:33:21.331927",
     "exception": false,
     "start_time": "2022-09-12T18:33:21.281372",
     "status": "completed"
    },
    "tags": []
   },
   "outputs": [
    {
     "data": {
      "text/plain": [
       "Education\n",
       "primary      34224.510663\n",
       "secondary    49736.127280\n",
       "tertiary     82878.300113\n",
       "unknown      46558.427571\n",
       "Name: salary, dtype: float64"
      ]
     },
     "execution_count": 55,
     "metadata": {},
     "output_type": "execute_result"
    }
   ],
   "source": [
    "df.groupby('Education')['salary'].mean()"
   ]
  },
  {
   "cell_type": "code",
   "execution_count": 56,
   "id": "15d51d1e",
   "metadata": {
    "execution": {
     "iopub.execute_input": "2022-09-12T18:33:21.395936Z",
     "iopub.status.busy": "2022-09-12T18:33:21.395123Z",
     "iopub.status.idle": "2022-09-12T18:33:21.576044Z",
     "shell.execute_reply": "2022-09-12T18:33:21.575216Z"
    },
    "papermill": {
     "duration": 0.21583,
     "end_time": "2022-09-12T18:33:21.578526",
     "exception": false,
     "start_time": "2022-09-12T18:33:21.362696",
     "status": "completed"
    },
    "tags": []
   },
   "outputs": [
    {
     "data": {
      "text/plain": [
       "<AxesSubplot:xlabel='Education'>"
      ]
     },
     "execution_count": 56,
     "metadata": {},
     "output_type": "execute_result"
    },
    {
     "data": {
      "image/png": "[encoded data removed]",
      "text/plain": [
       "<Figure size 432x288 with 1 Axes>"
      ]
     },
     "metadata": {
      "needs_background": "light"
     },
     "output_type": "display_data"
    }
   ],
   "source": [
    "df.groupby('Education')['salary'].mean().plot.bar()"
   ]
  },
  {
   "cell_type": "code",
   "execution_count": 57,
   "id": "aee6f211",
   "metadata": {
    "execution": {
     "iopub.execute_input": "2022-09-12T18:33:21.643860Z",
     "iopub.status.busy": "2022-09-12T18:33:21.642959Z",
     "iopub.status.idle": "2022-09-12T18:33:21.658792Z",
     "shell.execute_reply": "2022-09-12T18:33:21.657676Z"
    },
    "papermill": {
     "duration": 0.05138,
     "end_time": "2022-09-12T18:33:21.661203",
     "exception": false,
     "start_time": "2022-09-12T18:33:21.609823",
     "status": "completed"
    },
    "tags": []
   },
   "outputs": [
    {
     "data": {
      "text/plain": [
       "Education\n",
       "primary       20000.0\n",
       "secondary     55000.0\n",
       "tertiary     100000.0\n",
       "unknown       50000.0\n",
       "Name: salary, dtype: float64"
      ]
     },
     "execution_count": 57,
     "metadata": {},
     "output_type": "execute_result"
    }
   ],
   "source": [
    "df.groupby('Education')['salary'].median()"
   ]
  },
  {
   "cell_type": "code",
   "execution_count": 58,
   "id": "c1910709",
   "metadata": {
    "execution": {
     "iopub.execute_input": "2022-09-12T18:33:21.727616Z",
     "iopub.status.busy": "2022-09-12T18:33:21.727211Z",
     "iopub.status.idle": "2022-09-12T18:33:21.942396Z",
     "shell.execute_reply": "2022-09-12T18:33:21.941197Z"
    },
    "papermill": {
     "duration": 0.251891,
     "end_time": "2022-09-12T18:33:21.945137",
     "exception": false,
     "start_time": "2022-09-12T18:33:21.693246",
     "status": "completed"
    },
    "tags": []
   },
   "outputs": [
    {
     "data": {
      "text/plain": [
       "<AxesSubplot:xlabel='Education'>"
      ]
     },
     "execution_count": 58,
     "metadata": {},
     "output_type": "execute_result"
    },
    {
     "data": {
      "image/png": "[encoded data removed]",
      "text/plain": [
       "<Figure size 432x288 with 1 Axes>"
      ]
     },
     "metadata": {
      "needs_background": "light"
     },
     "output_type": "display_data"
    }
   ],
   "source": [
    "df.groupby('Education')['salary'].median().plot.bar()"
   ]
  },
  {
   "cell_type": "code",
   "execution_count": 59,
   "id": "eefc671a",
   "metadata": {
    "execution": {
     "iopub.execute_input": "2022-09-12T18:33:22.012309Z",
     "iopub.status.busy": "2022-09-12T18:33:22.011858Z",
     "iopub.status.idle": "2022-09-12T18:33:22.290100Z",
     "shell.execute_reply": "2022-09-12T18:33:22.289219Z"
    },
    "papermill": {
     "duration": 0.31509,
     "end_time": "2022-09-12T18:33:22.292817",
     "exception": false,
     "start_time": "2022-09-12T18:33:21.977727",
     "status": "completed"
    },
    "tags": []
   },
   "outputs": [
    {
     "data": {
      "text/plain": [
       "<AxesSubplot:xlabel='Education', ylabel='salary'>"
      ]
     },
     "execution_count": 59,
     "metadata": {},
     "output_type": "execute_result"
    },
    {
     "data": {
      "image/png": "[encoded data removed]",
      "text/plain": [
       "<Figure size 432x288 with 1 Axes>"
      ]
     },
     "metadata": {
      "needs_background": "light"
     },
     "output_type": "display_data"
    }
   ],
   "source": [
    "sns.boxplot(x='Education',y='salary',data=df)\n"
   ]
  },
  {
   "cell_type": "code",
   "execution_count": 60,
   "id": "0d5bf72f",
   "metadata": {
    "execution": {
     "iopub.execute_input": "2022-09-12T18:33:22.359786Z",
     "iopub.status.busy": "2022-09-12T18:33:22.358913Z",
     "iopub.status.idle": "2022-09-12T18:33:22.641009Z",
     "shell.execute_reply": "2022-09-12T18:33:22.640066Z"
    },
    "papermill": {
     "duration": 0.318223,
     "end_time": "2022-09-12T18:33:22.643573",
     "exception": false,
     "start_time": "2022-09-12T18:33:22.325350",
     "status": "completed"
    },
    "tags": []
   },
   "outputs": [
    {
     "data": {
      "text/plain": [
       "<AxesSubplot:xlabel='job'>"
      ]
     },
     "execution_count": 60,
     "metadata": {},
     "output_type": "execute_result"
    },
    {
     "data": {
      "image/png": "[encoded data removed]",
      "text/plain": [
       "<Figure size 432x288 with 1 Axes>"
      ]
     },
     "metadata": {
      "needs_background": "light"
     },
     "output_type": "display_data"
    }
   ],
   "source": [
    "df.groupby('job')['salary'].mean().plot.bar()"
   ]
  },
  {
   "cell_type": "code",
   "execution_count": 61,
   "id": "6d842d58",
   "metadata": {
    "execution": {
     "iopub.execute_input": "2022-09-12T18:33:22.713595Z",
     "iopub.status.busy": "2022-09-12T18:33:22.712375Z",
     "iopub.status.idle": "2022-09-12T18:33:22.722200Z",
     "shell.execute_reply": "2022-09-12T18:33:22.721183Z"
    },
    "papermill": {
     "duration": 0.048012,
     "end_time": "2022-09-12T18:33:22.724806",
     "exception": false,
     "start_time": "2022-09-12T18:33:22.676794",
     "status": "completed"
    },
    "tags": []
   },
   "outputs": [],
   "source": [
    "df['response_flag']=np.where(df.response=='yes',1,0)"
   ]
  },
  {
   "cell_type": "code",
   "execution_count": 62,
   "id": "d24f6733",
   "metadata": {
    "execution": {
     "iopub.execute_input": "2022-09-12T18:33:22.792663Z",
     "iopub.status.busy": "2022-09-12T18:33:22.791929Z",
     "iopub.status.idle": "2022-09-12T18:33:22.802344Z",
     "shell.execute_reply": "2022-09-12T18:33:22.801369Z"
    },
    "papermill": {
     "duration": 0.047277,
     "end_time": "2022-09-12T18:33:22.804805",
     "exception": false,
     "start_time": "2022-09-12T18:33:22.757528",
     "status": "completed"
    },
    "tags": []
   },
   "outputs": [
    {
     "data": {
      "text/plain": [
       "no     39876\n",
       "yes     5285\n",
       "Name: response, dtype: int64"
      ]
     },
     "execution_count": 62,
     "metadata": {},
     "output_type": "execute_result"
    }
   ],
   "source": [
    "df.response.value_counts()\n"
   ]
  },
  {
   "cell_type": "code",
   "execution_count": 63,
   "id": "8d064b1f",
   "metadata": {
    "execution": {
     "iopub.execute_input": "2022-09-12T18:33:22.873910Z",
     "iopub.status.busy": "2022-09-12T18:33:22.873106Z",
     "iopub.status.idle": "2022-09-12T18:33:22.881597Z",
     "shell.execute_reply": "2022-09-12T18:33:22.880707Z"
    },
    "papermill": {
     "duration": 0.04649,
     "end_time": "2022-09-12T18:33:22.884009",
     "exception": false,
     "start_time": "2022-09-12T18:33:22.837519",
     "status": "completed"
    },
    "tags": []
   },
   "outputs": [
    {
     "data": {
      "text/plain": [
       "0    39906\n",
       "1     5285\n",
       "Name: response_flag, dtype: int64"
      ]
     },
     "execution_count": 63,
     "metadata": {},
     "output_type": "execute_result"
    }
   ],
   "source": [
    "df.response_flag.value_counts()"
   ]
  },
  {
   "cell_type": "code",
   "execution_count": 64,
   "id": "e02d6d3e",
   "metadata": {
    "execution": {
     "iopub.execute_input": "2022-09-12T18:33:22.951430Z",
     "iopub.status.busy": "2022-09-12T18:33:22.951001Z",
     "iopub.status.idle": "2022-09-12T18:33:22.964603Z",
     "shell.execute_reply": "2022-09-12T18:33:22.963532Z"
    },
    "papermill": {
     "duration": 0.050504,
     "end_time": "2022-09-12T18:33:22.967116",
     "exception": false,
     "start_time": "2022-09-12T18:33:22.916612",
     "status": "completed"
    },
    "tags": []
   },
   "outputs": [
    {
     "data": {
      "text/plain": [
       "Education\n",
       "primary      0.086328\n",
       "secondary    0.105549\n",
       "tertiary     0.149981\n",
       "unknown      0.135703\n",
       "Name: response_flag, dtype: float64"
      ]
     },
     "execution_count": 64,
     "metadata": {},
     "output_type": "execute_result"
    }
   ],
   "source": [
    "df.groupby('Education')['response_flag'].mean()"
   ]
  },
  {
   "cell_type": "code",
   "execution_count": 65,
   "id": "cf16e426",
   "metadata": {
    "execution": {
     "iopub.execute_input": "2022-09-12T18:33:23.035397Z",
     "iopub.status.busy": "2022-09-12T18:33:23.034630Z",
     "iopub.status.idle": "2022-09-12T18:33:23.255726Z",
     "shell.execute_reply": "2022-09-12T18:33:23.254834Z"
    },
    "papermill": {
     "duration": 0.257844,
     "end_time": "2022-09-12T18:33:23.258106",
     "exception": false,
     "start_time": "2022-09-12T18:33:23.000262",
     "status": "completed"
    },
    "tags": []
   },
   "outputs": [
    {
     "data": {
      "text/plain": [
       "<AxesSubplot:xlabel='Education'>"
      ]
     },
     "execution_count": 65,
     "metadata": {},
     "output_type": "execute_result"
    },
    {
     "data": {
      "image/png": "[encoded data removed]",
      "text/plain": [
       "<Figure size 432x288 with 1 Axes>"
      ]
     },
     "metadata": {
      "needs_background": "light"
     },
     "output_type": "display_data"
    }
   ],
   "source": [
    "df.groupby('Education')['response_flag'].mean().plot.bar()"
   ]
  },
  {
   "cell_type": "code",
   "execution_count": 66,
   "id": "b84eb06e",
   "metadata": {
    "execution": {
     "iopub.execute_input": "2022-09-12T18:33:23.326445Z",
     "iopub.status.busy": "2022-09-12T18:33:23.325671Z",
     "iopub.status.idle": "2022-09-12T18:33:23.340260Z",
     "shell.execute_reply": "2022-09-12T18:33:23.339380Z"
    },
    "papermill": {
     "duration": 0.051576,
     "end_time": "2022-09-12T18:33:23.342576",
     "exception": false,
     "start_time": "2022-09-12T18:33:23.291000",
     "status": "completed"
    },
    "tags": []
   },
   "outputs": [
    {
     "data": {
      "text/plain": [
       "job\n",
       "admin.           0.121857\n",
       "blue-collar      0.072787\n",
       "entrepreneur     0.082828\n",
       "housemaid        0.087167\n",
       "management       0.137599\n",
       "retired          0.227574\n",
       "self-employed    0.117871\n",
       "services         0.088873\n",
       "student          0.286780\n",
       "technician       0.110614\n",
       "unemployed       0.155146\n",
       "unknown          0.118056\n",
       "Name: response_flag, dtype: float64"
      ]
     },
     "execution_count": 66,
     "metadata": {},
     "output_type": "execute_result"
    }
   ],
   "source": [
    "df.groupby('job')['response_flag'].mean()"
   ]
  },
  {
   "cell_type": "code",
   "execution_count": 67,
   "id": "0c136d89",
   "metadata": {
    "execution": {
     "iopub.execute_input": "2022-09-12T18:33:23.410948Z",
     "iopub.status.busy": "2022-09-12T18:33:23.410204Z",
     "iopub.status.idle": "2022-09-12T18:33:23.686042Z",
     "shell.execute_reply": "2022-09-12T18:33:23.685222Z"
    },
    "papermill": {
     "duration": 0.312718,
     "end_time": "2022-09-12T18:33:23.688418",
     "exception": false,
     "start_time": "2022-09-12T18:33:23.375700",
     "status": "completed"
    },
    "tags": []
   },
   "outputs": [
    {
     "data": {
      "text/plain": [
       "<AxesSubplot:xlabel='job'>"
      ]
     },
     "execution_count": 67,
     "metadata": {},
     "output_type": "execute_result"
    },
    {
     "data": {
      "image/png": "[encoded data removed]",
      "text/plain": [
       "<Figure size 432x288 with 1 Axes>"
      ]
     },
     "metadata": {
      "needs_background": "light"
     },
     "output_type": "display_data"
    }
   ],
   "source": [
    "df.groupby('job')['response_flag'].mean().plot.bar()"
   ]
  },
  {
   "cell_type": "code",
   "execution_count": 68,
   "id": "f63788b1",
   "metadata": {
    "execution": {
     "iopub.execute_input": "2022-09-12T18:33:23.759956Z",
     "iopub.status.busy": "2022-09-12T18:33:23.759180Z",
     "iopub.status.idle": "2022-09-12T18:33:23.773317Z",
     "shell.execute_reply": "2022-09-12T18:33:23.772078Z"
    },
    "papermill": {
     "duration": 0.052793,
     "end_time": "2022-09-12T18:33:23.776105",
     "exception": false,
     "start_time": "2022-09-12T18:33:23.723312",
     "status": "completed"
    },
    "tags": []
   },
   "outputs": [
    {
     "data": {
      "text/plain": [
       "marital\n",
       "divorced    0.119400\n",
       "married     0.101198\n",
       "single      0.149460\n",
       "Name: response_flag, dtype: float64"
      ]
     },
     "execution_count": 68,
     "metadata": {},
     "output_type": "execute_result"
    }
   ],
   "source": [
    "df.groupby('marital')['response_flag'].mean()"
   ]
  },
  {
   "cell_type": "code",
   "execution_count": 69,
   "id": "e21ef5b8",
   "metadata": {
    "execution": {
     "iopub.execute_input": "2022-09-12T18:33:23.847377Z",
     "iopub.status.busy": "2022-09-12T18:33:23.846545Z",
     "iopub.status.idle": "2022-09-12T18:33:24.010203Z",
     "shell.execute_reply": "2022-09-12T18:33:24.009256Z"
    },
    "papermill": {
     "duration": 0.202747,
     "end_time": "2022-09-12T18:33:24.012719",
     "exception": false,
     "start_time": "2022-09-12T18:33:23.809972",
     "status": "completed"
    },
    "tags": []
   },
   "outputs": [
    {
     "data": {
      "text/plain": [
       "<AxesSubplot:ylabel='marital'>"
      ]
     },
     "execution_count": 69,
     "metadata": {},
     "output_type": "execute_result"
    },
    {
     "data": {
      "image/png": "[encoded data removed]",
      "text/plain": [
       "<Figure size 432x288 with 1 Axes>"
      ]
     },
     "metadata": {
      "needs_background": "light"
     },
     "output_type": "display_data"
    }
   ],
   "source": [
    "df.groupby('marital')['response_flag'].mean().plot.barh()"
   ]
  },
  {
   "cell_type": "code",
   "execution_count": 70,
   "id": "3b780664",
   "metadata": {
    "execution": {
     "iopub.execute_input": "2022-09-12T18:33:24.089741Z",
     "iopub.status.busy": "2022-09-12T18:33:24.088557Z",
     "iopub.status.idle": "2022-09-12T18:33:24.242945Z",
     "shell.execute_reply": "2022-09-12T18:33:24.241755Z"
    },
    "papermill": {
     "duration": 0.198346,
     "end_time": "2022-09-12T18:33:24.245700",
     "exception": false,
     "start_time": "2022-09-12T18:33:24.047354",
     "status": "completed"
    },
    "tags": []
   },
   "outputs": [
    {
     "data": {
      "text/plain": [
       "<AxesSubplot:xlabel='loan'>"
      ]
     },
     "execution_count": 70,
     "metadata": {},
     "output_type": "execute_result"
    },
    {
     "data": {
      "image/png": "[encoded data removed]",
      "text/plain": [
       "<Figure size 432x288 with 1 Axes>"
      ]
     },
     "metadata": {
      "needs_background": "light"
     },
     "output_type": "display_data"
    }
   ],
   "source": [
    "df.groupby('loan')['response_flag'].mean().plot.bar()"
   ]
  },
  {
   "cell_type": "code",
   "execution_count": 71,
   "id": "72d717fc",
   "metadata": {
    "execution": {
     "iopub.execute_input": "2022-09-12T18:33:24.318557Z",
     "iopub.status.busy": "2022-09-12T18:33:24.316137Z",
     "iopub.status.idle": "2022-09-12T18:33:24.478434Z",
     "shell.execute_reply": "2022-09-12T18:33:24.477424Z"
    },
    "papermill": {
     "duration": 0.201011,
     "end_time": "2022-09-12T18:33:24.480892",
     "exception": false,
     "start_time": "2022-09-12T18:33:24.279881",
     "status": "completed"
    },
    "tags": []
   },
   "outputs": [
    {
     "data": {
      "text/plain": [
       "<AxesSubplot:xlabel='housing'>"
      ]
     },
     "execution_count": 71,
     "metadata": {},
     "output_type": "execute_result"
    },
    {
     "data": {
      "image/png": "[encoded data removed]",
      "text/plain": [
       "<Figure size 432x288 with 1 Axes>"
      ]
     },
     "metadata": {
      "needs_background": "light"
     },
     "output_type": "display_data"
    }
   ],
   "source": [
    "df.groupby('housing')['response_flag'].mean().plot.bar()"
   ]
  },
  {
   "cell_type": "code",
   "execution_count": 72,
   "id": "4b1fd0c4",
   "metadata": {
    "execution": {
     "iopub.execute_input": "2022-09-12T18:33:24.561094Z",
     "iopub.status.busy": "2022-09-12T18:33:24.559934Z",
     "iopub.status.idle": "2022-09-12T18:33:24.734116Z",
     "shell.execute_reply": "2022-09-12T18:33:24.732923Z"
    },
    "papermill": {
     "duration": 0.221019,
     "end_time": "2022-09-12T18:33:24.736718",
     "exception": false,
     "start_time": "2022-09-12T18:33:24.515699",
     "status": "completed"
    },
    "tags": []
   },
   "outputs": [
    {
     "data": {
      "text/plain": [
       "<AxesSubplot:xlabel='response', ylabel='age'>"
      ]
     },
     "execution_count": 72,
     "metadata": {},
     "output_type": "execute_result"
    },
    {
     "data": {
      "image/png": "[encoded data removed]",
      "text/plain": [
       "<Figure size 432x288 with 1 Axes>"
      ]
     },
     "metadata": {
      "needs_background": "light"
     },
     "output_type": "display_data"
    }
   ],
   "source": [
    "sns.boxplot(data=df,x='response',y='age')"
   ]
  },
  {
   "cell_type": "code",
   "execution_count": 73,
   "id": "d433637a",
   "metadata": {
    "execution": {
     "iopub.execute_input": "2022-09-12T18:33:24.810088Z",
     "iopub.status.busy": "2022-09-12T18:33:24.808945Z",
     "iopub.status.idle": "2022-09-12T18:33:24.846212Z",
     "shell.execute_reply": "2022-09-12T18:33:24.844934Z"
    },
    "papermill": {
     "duration": 0.07707,
     "end_time": "2022-09-12T18:33:24.848967",
     "exception": false,
     "start_time": "2022-09-12T18:33:24.771897",
     "status": "completed"
    },
    "tags": []
   },
   "outputs": [],
   "source": [
    "res=pd.pivot_table(data=df,index=\"Education\",columns='marital',values='response_flag')"
   ]
  },
  {
   "cell_type": "code",
   "execution_count": 74,
   "id": "51e7dec0",
   "metadata": {
    "execution": {
     "iopub.execute_input": "2022-09-12T18:33:24.923295Z",
     "iopub.status.busy": "2022-09-12T18:33:24.922499Z",
     "iopub.status.idle": "2022-09-12T18:33:25.176566Z",
     "shell.execute_reply": "2022-09-12T18:33:25.175324Z"
    },
    "papermill": {
     "duration": 0.294893,
     "end_time": "2022-09-12T18:33:25.179179",
     "exception": false,
     "start_time": "2022-09-12T18:33:24.884286",
     "status": "completed"
    },
    "tags": []
   },
   "outputs": [
    {
     "data": {
      "text/plain": [
       "<AxesSubplot:xlabel='marital', ylabel='Education'>"
      ]
     },
     "execution_count": 74,
     "metadata": {},
     "output_type": "execute_result"
    },
    {
     "data": {
      "image/png": "[encoded data removed]",
      "text/plain": [
       "<Figure size 432x288 with 2 Axes>"
      ]
     },
     "metadata": {
      "needs_background": "light"
     },
     "output_type": "display_data"
    }
   ],
   "source": [
    "sns.heatmap(res, annot=True, cmap='RdYlGn',center=0.117)"
   ]
  },
  {
   "cell_type": "code",
   "execution_count": 75,
   "id": "e0f7e52e",
   "metadata": {
    "execution": {
     "iopub.execute_input": "2022-09-12T18:33:25.253316Z",
     "iopub.status.busy": "2022-09-12T18:33:25.252881Z",
     "iopub.status.idle": "2022-09-12T18:33:25.284654Z",
     "shell.execute_reply": "2022-09-12T18:33:25.283247Z"
    },
    "papermill": {
     "duration": 0.072414,
     "end_time": "2022-09-12T18:33:25.287774",
     "exception": false,
     "start_time": "2022-09-12T18:33:25.215360",
     "status": "completed"
    },
    "tags": []
   },
   "outputs": [],
   "source": [
    "res1=pd.pivot_table(data=df,index=\"job\",columns='marital',values='response_flag')"
   ]
  },
  {
   "cell_type": "code",
   "execution_count": 76,
   "id": "52aca9ff",
   "metadata": {
    "execution": {
     "iopub.execute_input": "2022-09-12T18:33:25.361627Z",
     "iopub.status.busy": "2022-09-12T18:33:25.361214Z",
     "iopub.status.idle": "2022-09-12T18:33:25.804040Z",
     "shell.execute_reply": "2022-09-12T18:33:25.802834Z"
    },
    "papermill": {
     "duration": 0.482684,
     "end_time": "2022-09-12T18:33:25.806599",
     "exception": false,
     "start_time": "2022-09-12T18:33:25.323915",
     "status": "completed"
    },
    "tags": []
   },
   "outputs": [
    {
     "data": {
      "text/plain": [
       "<AxesSubplot:xlabel='marital', ylabel='job'>"
      ]
     },
     "execution_count": 76,
     "metadata": {},
     "output_type": "execute_result"
    },
    {
     "data": {
      "image/png": "[encoded data removed]",
      "text/plain": [
       "<Figure size 432x288 with 2 Axes>"
      ]
     },
     "metadata": {
      "needs_background": "light"
     },
     "output_type": "display_data"
    }
   ],
   "source": [
    "sns.heatmap(res1, annot=True, cmap='RdYlGn',center=0.117)"
   ]
  },
  {
   "cell_type": "code",
   "execution_count": null,
   "id": "02478488",
   "metadata": {
    "papermill": {
     "duration": 0.035683,
     "end_time": "2022-09-12T18:33:25.878253",
     "exception": false,
     "start_time": "2022-09-12T18:33:25.842570",
     "status": "completed"
    },
    "tags": []
   },
   "outputs": [],
   "source": []
  }
 ],
 "metadata": {
  "kernelspec": {
   "display_name": "Python 3",
   "language": "python",
   "name": "python3"
  },
  "language_info": {
   "codemirror_mode": {
    "name": "ipython",
    "version": 3
   },
   "file_extension": ".py",
   "mimetype": "text/x-python",
   "name": "python",
   "nbconvert_exporter": "python",
   "pygments_lexer": "ipython3",
   "version": "3.7.12"
  },
  "papermill": {
   "default_parameters": {},
   "duration": 40.038687,
   "end_time": "2022-09-12T18:33:26.938336",
   "environment_variables": {},
   "exception": null,
   "input_path": "__notebook__.ipynb",
   "output_path": "__notebook__.ipynb",
   "parameters": {},
   "start_time": "2022-09-12T18:32:46.899649",
   "version": "2.3.4"
  }
 },
 "nbformat": 4,
 "nbformat_minor": 5
}
